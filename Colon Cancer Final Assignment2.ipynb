{
 "cells": [
  {
   "cell_type": "markdown",
   "metadata": {},
   "source": [
    "Machine Learning & Computational Machine Learning\n",
    "\n",
    "COSC 2673 & COSC 2793\n",
    "\n",
    "Assignment 2"
   ]
  },
  {
   "cell_type": "markdown",
   "metadata": {},
   "source": [
    "Student IDs\n",
    "\n",
    "Aparupa Mitra : s3831724\n",
    "\n",
    "Shristi Shelendra Chavhan : s3822713"
   ]
  },
  {
   "cell_type": "markdown",
   "metadata": {},
   "source": [
    "Project 1: Classify Images of Colon Cancer\n",
    "\n",
    "Assume you are a team of machine learning engineers working for a biomedical startup\n",
    "company. Your task is to develop a machine learning system that can classify histopath-\n",
    "elogy images of colon cells. A basic description of histopathelogy images can be found\n",
    "here.\n",
    "You will be using a modified version of the \\CRCHistoPhenotypes\" dataset for this\n",
    "task. The data set for you to use in this assignment has been speciacally prepared for\n",
    "you, and is provided on Canvas. The dataset consists of 27x27 RGB images of colon cells\n",
    "from 99 different patients and you are expected to use the dataset to perform two tasks:\n",
    "\n",
    "• Classify images according to whether given cell image represents a cancerous cells\n",
    "or not (isCancerous).\n",
    "\n",
    "• Classify images according to cell-type, such as: fibroblast, inflammatory,\n",
    "epithelial or others."
   ]
  },
  {
   "cell_type": "markdown",
   "metadata": {},
   "source": [
    "# TASK 1"
   ]
  },
  {
   "cell_type": "markdown",
   "metadata": {},
   "source": [
    "Task 1 : Classify images according to whether given cell image represents a cancerous cells\n",
    "or not (isCancerous)."
   ]
  },
  {
   "cell_type": "markdown",
   "metadata": {},
   "source": [
    "Here we will combine two both csv files data_labels_mainData.csv and data_labels_extraData.csv for building the model capable of predicting a patient cancer or not . We will use ModelCheckPoint() to save the weight of the model and use these weights in prediction cell types which will be build for  Task 2 .\n",
    "We will use the concept of Transfer learning  which is a machine learning method where a model developed for a task is reused as the starting point for a model on a second task."
   ]
  },
  {
   "cell_type": "code",
   "execution_count": 1,
   "metadata": {},
   "outputs": [],
   "source": [
    "import numpy as np\n",
    "from sklearn.model_selection import train_test_split\n",
    "import pandas as pd\n",
    "import zipfile\n",
    "import matplotlib.pyplot as plt\n",
    "%matplotlib inline"
   ]
  },
  {
   "cell_type": "code",
   "execution_count": 2,
   "metadata": {},
   "outputs": [],
   "source": [
    "with zipfile.ZipFile('./patch_images.zip', 'r') as zip_ref:\n",
    "    zip_ref.extractall('./')"
   ]
  },
  {
   "cell_type": "code",
   "execution_count": 3,
   "metadata": {},
   "outputs": [],
   "source": [
    "predict_cancerous= pd.read_csv('./data_labels_mainData.csv')\n",
    "\n"
   ]
  },
  {
   "cell_type": "code",
   "execution_count": 4,
   "metadata": {},
   "outputs": [
    {
     "data": {
      "text/html": [
       "<div>\n",
       "<style scoped>\n",
       "    .dataframe tbody tr th:only-of-type {\n",
       "        vertical-align: middle;\n",
       "    }\n",
       "\n",
       "    .dataframe tbody tr th {\n",
       "        vertical-align: top;\n",
       "    }\n",
       "\n",
       "    .dataframe thead th {\n",
       "        text-align: right;\n",
       "    }\n",
       "</style>\n",
       "<table border=\"1\" class=\"dataframe\">\n",
       "  <thead>\n",
       "    <tr style=\"text-align: right;\">\n",
       "      <th></th>\n",
       "      <th>InstanceID</th>\n",
       "      <th>patientID</th>\n",
       "      <th>ImageName</th>\n",
       "      <th>cellTypeName</th>\n",
       "      <th>cellType</th>\n",
       "      <th>isCancerous</th>\n",
       "    </tr>\n",
       "  </thead>\n",
       "  <tbody>\n",
       "    <tr>\n",
       "      <th>0</th>\n",
       "      <td>22405</td>\n",
       "      <td>1</td>\n",
       "      <td>22405.png</td>\n",
       "      <td>fibroblast</td>\n",
       "      <td>0</td>\n",
       "      <td>0</td>\n",
       "    </tr>\n",
       "    <tr>\n",
       "      <th>1</th>\n",
       "      <td>22406</td>\n",
       "      <td>1</td>\n",
       "      <td>22406.png</td>\n",
       "      <td>fibroblast</td>\n",
       "      <td>0</td>\n",
       "      <td>0</td>\n",
       "    </tr>\n",
       "    <tr>\n",
       "      <th>2</th>\n",
       "      <td>22407</td>\n",
       "      <td>1</td>\n",
       "      <td>22407.png</td>\n",
       "      <td>fibroblast</td>\n",
       "      <td>0</td>\n",
       "      <td>0</td>\n",
       "    </tr>\n",
       "    <tr>\n",
       "      <th>3</th>\n",
       "      <td>22408</td>\n",
       "      <td>1</td>\n",
       "      <td>22408.png</td>\n",
       "      <td>fibroblast</td>\n",
       "      <td>0</td>\n",
       "      <td>0</td>\n",
       "    </tr>\n",
       "    <tr>\n",
       "      <th>4</th>\n",
       "      <td>22409</td>\n",
       "      <td>1</td>\n",
       "      <td>22409.png</td>\n",
       "      <td>fibroblast</td>\n",
       "      <td>0</td>\n",
       "      <td>0</td>\n",
       "    </tr>\n",
       "    <tr>\n",
       "      <th>...</th>\n",
       "      <td>...</td>\n",
       "      <td>...</td>\n",
       "      <td>...</td>\n",
       "      <td>...</td>\n",
       "      <td>...</td>\n",
       "      <td>...</td>\n",
       "    </tr>\n",
       "    <tr>\n",
       "      <th>9891</th>\n",
       "      <td>1625</td>\n",
       "      <td>60</td>\n",
       "      <td>1625.png</td>\n",
       "      <td>epithelial</td>\n",
       "      <td>2</td>\n",
       "      <td>1</td>\n",
       "    </tr>\n",
       "    <tr>\n",
       "      <th>9892</th>\n",
       "      <td>1626</td>\n",
       "      <td>60</td>\n",
       "      <td>1626.png</td>\n",
       "      <td>epithelial</td>\n",
       "      <td>2</td>\n",
       "      <td>1</td>\n",
       "    </tr>\n",
       "    <tr>\n",
       "      <th>9893</th>\n",
       "      <td>1627</td>\n",
       "      <td>60</td>\n",
       "      <td>1627.png</td>\n",
       "      <td>epithelial</td>\n",
       "      <td>2</td>\n",
       "      <td>1</td>\n",
       "    </tr>\n",
       "    <tr>\n",
       "      <th>9894</th>\n",
       "      <td>1628</td>\n",
       "      <td>60</td>\n",
       "      <td>1628.png</td>\n",
       "      <td>epithelial</td>\n",
       "      <td>2</td>\n",
       "      <td>1</td>\n",
       "    </tr>\n",
       "    <tr>\n",
       "      <th>9895</th>\n",
       "      <td>1629</td>\n",
       "      <td>60</td>\n",
       "      <td>1629.png</td>\n",
       "      <td>epithelial</td>\n",
       "      <td>2</td>\n",
       "      <td>1</td>\n",
       "    </tr>\n",
       "  </tbody>\n",
       "</table>\n",
       "<p>9896 rows × 6 columns</p>\n",
       "</div>"
      ],
      "text/plain": [
       "      InstanceID  patientID  ImageName cellTypeName  cellType  isCancerous\n",
       "0          22405          1  22405.png   fibroblast         0            0\n",
       "1          22406          1  22406.png   fibroblast         0            0\n",
       "2          22407          1  22407.png   fibroblast         0            0\n",
       "3          22408          1  22408.png   fibroblast         0            0\n",
       "4          22409          1  22409.png   fibroblast         0            0\n",
       "...          ...        ...        ...          ...       ...          ...\n",
       "9891        1625         60   1625.png   epithelial         2            1\n",
       "9892        1626         60   1626.png   epithelial         2            1\n",
       "9893        1627         60   1627.png   epithelial         2            1\n",
       "9894        1628         60   1628.png   epithelial         2            1\n",
       "9895        1629         60   1629.png   epithelial         2            1\n",
       "\n",
       "[9896 rows x 6 columns]"
      ]
     },
     "execution_count": 4,
     "metadata": {},
     "output_type": "execute_result"
    }
   ],
   "source": [
    "predict_cancerous"
   ]
  },
  {
   "cell_type": "code",
   "execution_count": null,
   "metadata": {},
   "outputs": [],
   "source": []
  },
  {
   "cell_type": "markdown",
   "metadata": {},
   "source": [
    "# IMAGE EXPLORATION "
   ]
  },
  {
   "cell_type": "markdown",
   "metadata": {},
   "source": [
    "View images of different cell types.We have four cell types :fibroblast,inflammatory,epithelial,others. We will view images from different perspectives."
   ]
  },
  {
   "cell_type": "code",
   "execution_count": 5,
   "metadata": {},
   "outputs": [
    {
     "data": {
      "image/png": "[encoded data removed]",
      "text/plain": [
       "<Figure size 1152x432 with 4 Axes>"
      ]
     },
     "metadata": {
      "needs_background": "light"
     },
     "output_type": "display_data"
    }
   ],
   "source": [
    "# Now let us view some images of different cell types\n",
    "\n",
    "from skimage.feature import hog\n",
    "from skimage import data, exposure\n",
    "from skimage.io import imread\n",
    "import matplotlib.pyplot as plt\n",
    "\n",
    "plt.figure(figsize=(16,6))\n",
    "\n",
    "\n",
    "plt.subplot(1,4,1)\n",
    "image =imread('./patch_images/22405.png', as_gray=False, plugin=None)\n",
    "plt.title(\"fibroblast\")\n",
    "# Plot image\n",
    "plt.imshow(image, cmap=plt.cm.gray)\n",
    "plt.axis('on')\n",
    "\n",
    "plt.subplot(1,4,2)\n",
    "image =imread('./patch_images/22417.png', as_gray=False, plugin=None)\n",
    "plt.title(\"inflammatory\")\n",
    "# Plot image\n",
    "plt.imshow(image, cmap=plt.cm.gray)\n",
    "plt.axis('on')\n",
    "\n",
    "\n",
    "\n",
    "plt.subplot(1,4,3)\n",
    "image =imread('./patch_images/4735.png', as_gray=False, plugin=None)\n",
    "plt.title(\"epithelial\")\n",
    "# Plot image\n",
    "plt.imshow(image, cmap=plt.cm.gray)\n",
    "plt.axis('on')\n",
    "\n",
    "\n",
    "plt.subplot(1,4,4)\n",
    "image =imread('./patch_images/8690.png', as_gray=False, plugin=None)\n",
    "plt.title(\"others\")\n",
    "# Plot image\n",
    "plt.imshow(image, cmap=plt.cm.gray)\n",
    "plt.axis('on')\n",
    "plt.show()"
   ]
  },
  {
   "cell_type": "markdown",
   "metadata": {},
   "source": [
    "Let us go for edge detection of all four types of cancerous cell"
   ]
  },
  {
   "cell_type": "code",
   "execution_count": 6,
   "metadata": {},
   "outputs": [
    {
     "data": {
      "image/png": "[encoded data removed]",
      "text/plain": [
       "<Figure size 1152x432 with 3 Axes>"
      ]
     },
     "metadata": {
      "needs_background": "light"
     },
     "output_type": "display_data"
    }
   ],
   "source": [
    "from skimage import filters\n",
    "from skimage.color import rgba2rgb, rgb2gray\n",
    "from skimage.filters import gaussian\n",
    "\n",
    "image =imread('./patch_images/22405.png', as_gray=False, plugin=None)\n",
    "\n",
    "grayscale = rgb2gray(image)\n",
    "gaussian_filter = gaussian(grayscale, sigma=1)\n",
    "sobel_edge_horizontal = filters.sobel_h(gaussian_filter)\n",
    "sobel_edge_verticle= filters.sobel_v(gaussian_filter)\n",
    "\n",
    "# Plot image\n",
    "plt.figure(figsize=(16,6))\n",
    "plt.subplot(1,3,1)\n",
    "plt.axis('on')\n",
    "plt.imshow(image)\n",
    "plt.title(\"Original Image for fibroblast\")\n",
    "\n",
    "plt.subplot(1,3,2)\n",
    "plt.imshow(sobel_edge_horizontal, cmap=plt.cm.coolwarm)\n",
    "plt.axis('on')\n",
    "plt.title(\"Horizontal edges for fibroblast\")\n",
    "plt.subplot(1,3,3)\n",
    "plt.imshow(sobel_edge_verticle, cmap=plt.cm.coolwarm)\n",
    "plt.axis('on')\n",
    "plt.title(\"Vertical edges for fibroblast\")\n",
    "plt.show()"
   ]
  },
  {
   "cell_type": "code",
   "execution_count": 7,
   "metadata": {},
   "outputs": [
    {
     "data": {
      "image/png": "[encoded data removed]",
      "text/plain": [
       "<Figure size 1152x432 with 3 Axes>"
      ]
     },
     "metadata": {
      "needs_background": "light"
     },
     "output_type": "display_data"
    }
   ],
   "source": [
    "\n",
    "image =imread('./patch_images/22417.png', as_gray=False, plugin=None)\n",
    "\n",
    "grayscale = rgb2gray(image)\n",
    "smooth_image = gaussian(grayscale, sigma=2)\n",
    "edge_sobel_horizontal = filters.sobel_h(smooth_image)\n",
    "edge_sobel_verticle = filters.sobel_v(smooth_image)\n",
    "\n",
    "# Plot image\n",
    "plt.figure(figsize=(16,6))\n",
    "plt.subplot(1,3,1)\n",
    "plt.axis('on')\n",
    "plt.imshow(image)\n",
    "plt.title(\"Original Image for inflammatory\")\n",
    "\n",
    "plt.subplot(1,3,2)\n",
    "plt.imshow(edge_sobel_horizontal, cmap=plt.cm.coolwarm)\n",
    "plt.axis('on')\n",
    "plt.title(\"Horizontal edges for inflammatory\")\n",
    "plt.subplot(1,3,3)\n",
    "plt.imshow(edge_sobel_verticle, cmap=plt.cm.coolwarm)\n",
    "plt.axis('on')\n",
    "plt.title(\"Vertical edges for inflammatory\")\n",
    "plt.show()"
   ]
  },
  {
   "cell_type": "code",
   "execution_count": 8,
   "metadata": {},
   "outputs": [
    {
     "data": {
      "image/png": "[encoded data removed]",
      "text/plain": [
       "<Figure size 1152x432 with 3 Axes>"
      ]
     },
     "metadata": {
      "needs_background": "light"
     },
     "output_type": "display_data"
    }
   ],
   "source": [
    "\n",
    "image =imread('./patch_images/4735.png', as_gray=False, plugin=None)\n",
    "\n",
    "grayscale = rgb2gray(image)\n",
    "smooth_image = gaussian(grayscale, sigma=2)\n",
    "edge_sobel_horizontal = filters.sobel_h(smooth_image)\n",
    "edge_sobel_verticle = filters.sobel_v(smooth_image)\n",
    "\n",
    "# Plot image\n",
    "plt.figure(figsize=(16,6))\n",
    "plt.subplot(1,3,1)\n",
    "plt.axis('on')\n",
    "plt.imshow(image)\n",
    "plt.title(\"Original Image for epithelial\")\n",
    "\n",
    "plt.subplot(1,3,2)\n",
    "plt.imshow(edge_sobel_horizontal, cmap=plt.cm.coolwarm)\n",
    "plt.axis('on')\n",
    "plt.title(\"Horizontal edges for epithelial\")\n",
    "plt.subplot(1,3,3)\n",
    "plt.imshow(edge_sobel_verticle, cmap=plt.cm.coolwarm)\n",
    "plt.axis('on')\n",
    "plt.title(\"Vertical edges for epithelial\")\n",
    "plt.show()"
   ]
  },
  {
   "cell_type": "code",
   "execution_count": 9,
   "metadata": {
    "scrolled": true
   },
   "outputs": [
    {
     "data": {
      "image/png": "[encoded data removed]",
      "text/plain": [
       "<Figure size 1152x432 with 3 Axes>"
      ]
     },
     "metadata": {
      "needs_background": "light"
     },
     "output_type": "display_data"
    }
   ],
   "source": [
    "image =imread('./patch_images/8690.png', as_gray=False, plugin=None)\n",
    "\n",
    "grayscale = rgb2gray(image)\n",
    "smooth_image = gaussian(grayscale, sigma=2)\n",
    "edge_sobel_hori = filters.sobel_h(smooth_image)\n",
    "edge_sobel_verti = filters.sobel_v(smooth_image)\n",
    "\n",
    "# Plot image\n",
    "plt.figure(figsize=(16,6))\n",
    "plt.subplot(1,3,1)\n",
    "plt.axis('on')\n",
    "plt.imshow(image)\n",
    "plt.title(\"Original Image for others cell type\")\n",
    "\n",
    "plt.subplot(1,3,2)\n",
    "plt.imshow(edge_sobel_hori, cmap=plt.cm.coolwarm)\n",
    "plt.axis('on')\n",
    "plt.title(\"Horizontal edges for others cell type\")\n",
    "plt.subplot(1,3,3)\n",
    "plt.imshow(edge_sobel_verti, cmap=plt.cm.coolwarm)\n",
    "plt.axis('on')\n",
    "plt.title(\"Vertical edges for others cell type\")\n",
    "plt.show()"
   ]
  },
  {
   "cell_type": "markdown",
   "metadata": {},
   "source": [
    "Now we will proceed for Task 1 that is to classify images according to whether given cell image represents a cancerous cells\n",
    "or not."
   ]
  },
  {
   "cell_type": "code",
   "execution_count": null,
   "metadata": {},
   "outputs": [],
   "source": []
  },
  {
   "cell_type": "markdown",
   "metadata": {},
   "source": [
    "We will combine two dataset data_labels_mainData.csv and  data_labels_extraData.csv and use it in Task 1 to build model to detect iscancerous or not"
   ]
  },
  {
   "cell_type": "code",
   "execution_count": 10,
   "metadata": {},
   "outputs": [
    {
     "data": {
      "text/html": [
       "<div>\n",
       "<style scoped>\n",
       "    .dataframe tbody tr th:only-of-type {\n",
       "        vertical-align: middle;\n",
       "    }\n",
       "\n",
       "    .dataframe tbody tr th {\n",
       "        vertical-align: top;\n",
       "    }\n",
       "\n",
       "    .dataframe thead th {\n",
       "        text-align: right;\n",
       "    }\n",
       "</style>\n",
       "<table border=\"1\" class=\"dataframe\">\n",
       "  <thead>\n",
       "    <tr style=\"text-align: right;\">\n",
       "      <th></th>\n",
       "      <th>InstanceID</th>\n",
       "      <th>patientID</th>\n",
       "      <th>ImageName</th>\n",
       "      <th>isCancerous</th>\n",
       "    </tr>\n",
       "  </thead>\n",
       "  <tbody>\n",
       "    <tr>\n",
       "      <th>0</th>\n",
       "      <td>22405</td>\n",
       "      <td>1</td>\n",
       "      <td>22405.png</td>\n",
       "      <td>0</td>\n",
       "    </tr>\n",
       "    <tr>\n",
       "      <th>1</th>\n",
       "      <td>22406</td>\n",
       "      <td>1</td>\n",
       "      <td>22406.png</td>\n",
       "      <td>0</td>\n",
       "    </tr>\n",
       "    <tr>\n",
       "      <th>2</th>\n",
       "      <td>22407</td>\n",
       "      <td>1</td>\n",
       "      <td>22407.png</td>\n",
       "      <td>0</td>\n",
       "    </tr>\n",
       "    <tr>\n",
       "      <th>3</th>\n",
       "      <td>22408</td>\n",
       "      <td>1</td>\n",
       "      <td>22408.png</td>\n",
       "      <td>0</td>\n",
       "    </tr>\n",
       "    <tr>\n",
       "      <th>4</th>\n",
       "      <td>22409</td>\n",
       "      <td>1</td>\n",
       "      <td>22409.png</td>\n",
       "      <td>0</td>\n",
       "    </tr>\n",
       "    <tr>\n",
       "      <th>...</th>\n",
       "      <td>...</td>\n",
       "      <td>...</td>\n",
       "      <td>...</td>\n",
       "      <td>...</td>\n",
       "    </tr>\n",
       "    <tr>\n",
       "      <th>9891</th>\n",
       "      <td>1625</td>\n",
       "      <td>60</td>\n",
       "      <td>1625.png</td>\n",
       "      <td>1</td>\n",
       "    </tr>\n",
       "    <tr>\n",
       "      <th>9892</th>\n",
       "      <td>1626</td>\n",
       "      <td>60</td>\n",
       "      <td>1626.png</td>\n",
       "      <td>1</td>\n",
       "    </tr>\n",
       "    <tr>\n",
       "      <th>9893</th>\n",
       "      <td>1627</td>\n",
       "      <td>60</td>\n",
       "      <td>1627.png</td>\n",
       "      <td>1</td>\n",
       "    </tr>\n",
       "    <tr>\n",
       "      <th>9894</th>\n",
       "      <td>1628</td>\n",
       "      <td>60</td>\n",
       "      <td>1628.png</td>\n",
       "      <td>1</td>\n",
       "    </tr>\n",
       "    <tr>\n",
       "      <th>9895</th>\n",
       "      <td>1629</td>\n",
       "      <td>60</td>\n",
       "      <td>1629.png</td>\n",
       "      <td>1</td>\n",
       "    </tr>\n",
       "  </tbody>\n",
       "</table>\n",
       "<p>9896 rows × 4 columns</p>\n",
       "</div>"
      ],
      "text/plain": [
       "      InstanceID  patientID  ImageName  isCancerous\n",
       "0          22405          1  22405.png            0\n",
       "1          22406          1  22406.png            0\n",
       "2          22407          1  22407.png            0\n",
       "3          22408          1  22408.png            0\n",
       "4          22409          1  22409.png            0\n",
       "...          ...        ...        ...          ...\n",
       "9891        1625         60   1625.png            1\n",
       "9892        1626         60   1626.png            1\n",
       "9893        1627         60   1627.png            1\n",
       "9894        1628         60   1628.png            1\n",
       "9895        1629         60   1629.png            1\n",
       "\n",
       "[9896 rows x 4 columns]"
      ]
     },
     "execution_count": 10,
     "metadata": {},
     "output_type": "execute_result"
    }
   ],
   "source": [
    "predict_cancerous = predict_cancerous.drop(['cellTypeName','cellType'],axis =1)\n",
    "predict_cancerous"
   ]
  },
  {
   "cell_type": "code",
   "execution_count": 11,
   "metadata": {},
   "outputs": [
    {
     "data": {
      "text/html": [
       "<div>\n",
       "<style scoped>\n",
       "    .dataframe tbody tr th:only-of-type {\n",
       "        vertical-align: middle;\n",
       "    }\n",
       "\n",
       "    .dataframe tbody tr th {\n",
       "        vertical-align: top;\n",
       "    }\n",
       "\n",
       "    .dataframe thead th {\n",
       "        text-align: right;\n",
       "    }\n",
       "</style>\n",
       "<table border=\"1\" class=\"dataframe\">\n",
       "  <thead>\n",
       "    <tr style=\"text-align: right;\">\n",
       "      <th></th>\n",
       "      <th>InstanceID</th>\n",
       "      <th>patientID</th>\n",
       "      <th>ImageName</th>\n",
       "      <th>isCancerous</th>\n",
       "    </tr>\n",
       "  </thead>\n",
       "  <tbody>\n",
       "    <tr>\n",
       "      <th>0</th>\n",
       "      <td>12681</td>\n",
       "      <td>61</td>\n",
       "      <td>12681.png</td>\n",
       "      <td>0</td>\n",
       "    </tr>\n",
       "    <tr>\n",
       "      <th>1</th>\n",
       "      <td>12682</td>\n",
       "      <td>61</td>\n",
       "      <td>12682.png</td>\n",
       "      <td>0</td>\n",
       "    </tr>\n",
       "    <tr>\n",
       "      <th>2</th>\n",
       "      <td>12683</td>\n",
       "      <td>61</td>\n",
       "      <td>12683.png</td>\n",
       "      <td>0</td>\n",
       "    </tr>\n",
       "    <tr>\n",
       "      <th>3</th>\n",
       "      <td>12684</td>\n",
       "      <td>61</td>\n",
       "      <td>12684.png</td>\n",
       "      <td>0</td>\n",
       "    </tr>\n",
       "    <tr>\n",
       "      <th>4</th>\n",
       "      <td>12685</td>\n",
       "      <td>61</td>\n",
       "      <td>12685.png</td>\n",
       "      <td>0</td>\n",
       "    </tr>\n",
       "    <tr>\n",
       "      <th>...</th>\n",
       "      <td>...</td>\n",
       "      <td>...</td>\n",
       "      <td>...</td>\n",
       "      <td>...</td>\n",
       "    </tr>\n",
       "    <tr>\n",
       "      <th>10379</th>\n",
       "      <td>20028</td>\n",
       "      <td>99</td>\n",
       "      <td>20028.png</td>\n",
       "      <td>0</td>\n",
       "    </tr>\n",
       "    <tr>\n",
       "      <th>10380</th>\n",
       "      <td>20029</td>\n",
       "      <td>99</td>\n",
       "      <td>20029.png</td>\n",
       "      <td>0</td>\n",
       "    </tr>\n",
       "    <tr>\n",
       "      <th>10381</th>\n",
       "      <td>20030</td>\n",
       "      <td>99</td>\n",
       "      <td>20030.png</td>\n",
       "      <td>0</td>\n",
       "    </tr>\n",
       "    <tr>\n",
       "      <th>10382</th>\n",
       "      <td>20031</td>\n",
       "      <td>99</td>\n",
       "      <td>20031.png</td>\n",
       "      <td>0</td>\n",
       "    </tr>\n",
       "    <tr>\n",
       "      <th>10383</th>\n",
       "      <td>20032</td>\n",
       "      <td>99</td>\n",
       "      <td>20032.png</td>\n",
       "      <td>0</td>\n",
       "    </tr>\n",
       "  </tbody>\n",
       "</table>\n",
       "<p>10384 rows × 4 columns</p>\n",
       "</div>"
      ],
      "text/plain": [
       "       InstanceID  patientID  ImageName  isCancerous\n",
       "0           12681         61  12681.png            0\n",
       "1           12682         61  12682.png            0\n",
       "2           12683         61  12683.png            0\n",
       "3           12684         61  12684.png            0\n",
       "4           12685         61  12685.png            0\n",
       "...           ...        ...        ...          ...\n",
       "10379       20028         99  20028.png            0\n",
       "10380       20029         99  20029.png            0\n",
       "10381       20030         99  20030.png            0\n",
       "10382       20031         99  20031.png            0\n",
       "10383       20032         99  20032.png            0\n",
       "\n",
       "[10384 rows x 4 columns]"
      ]
     },
     "execution_count": 11,
     "metadata": {},
     "output_type": "execute_result"
    }
   ],
   "source": [
    "extradata = pd.read_csv('./data_labels_extraData.csv')\n",
    "extradata"
   ]
  },
  {
   "cell_type": "code",
   "execution_count": 12,
   "metadata": {},
   "outputs": [
    {
     "data": {
      "text/html": [
       "<div>\n",
       "<style scoped>\n",
       "    .dataframe tbody tr th:only-of-type {\n",
       "        vertical-align: middle;\n",
       "    }\n",
       "\n",
       "    .dataframe tbody tr th {\n",
       "        vertical-align: top;\n",
       "    }\n",
       "\n",
       "    .dataframe thead th {\n",
       "        text-align: right;\n",
       "    }\n",
       "</style>\n",
       "<table border=\"1\" class=\"dataframe\">\n",
       "  <thead>\n",
       "    <tr style=\"text-align: right;\">\n",
       "      <th></th>\n",
       "      <th>InstanceID</th>\n",
       "      <th>patientID</th>\n",
       "      <th>ImageName</th>\n",
       "      <th>isCancerous</th>\n",
       "    </tr>\n",
       "  </thead>\n",
       "  <tbody>\n",
       "    <tr>\n",
       "      <th>0</th>\n",
       "      <td>22405</td>\n",
       "      <td>1</td>\n",
       "      <td>22405.png</td>\n",
       "      <td>0</td>\n",
       "    </tr>\n",
       "    <tr>\n",
       "      <th>1</th>\n",
       "      <td>22406</td>\n",
       "      <td>1</td>\n",
       "      <td>22406.png</td>\n",
       "      <td>0</td>\n",
       "    </tr>\n",
       "    <tr>\n",
       "      <th>2</th>\n",
       "      <td>22407</td>\n",
       "      <td>1</td>\n",
       "      <td>22407.png</td>\n",
       "      <td>0</td>\n",
       "    </tr>\n",
       "    <tr>\n",
       "      <th>3</th>\n",
       "      <td>22408</td>\n",
       "      <td>1</td>\n",
       "      <td>22408.png</td>\n",
       "      <td>0</td>\n",
       "    </tr>\n",
       "    <tr>\n",
       "      <th>4</th>\n",
       "      <td>22409</td>\n",
       "      <td>1</td>\n",
       "      <td>22409.png</td>\n",
       "      <td>0</td>\n",
       "    </tr>\n",
       "    <tr>\n",
       "      <th>...</th>\n",
       "      <td>...</td>\n",
       "      <td>...</td>\n",
       "      <td>...</td>\n",
       "      <td>...</td>\n",
       "    </tr>\n",
       "    <tr>\n",
       "      <th>10379</th>\n",
       "      <td>20028</td>\n",
       "      <td>99</td>\n",
       "      <td>20028.png</td>\n",
       "      <td>0</td>\n",
       "    </tr>\n",
       "    <tr>\n",
       "      <th>10380</th>\n",
       "      <td>20029</td>\n",
       "      <td>99</td>\n",
       "      <td>20029.png</td>\n",
       "      <td>0</td>\n",
       "    </tr>\n",
       "    <tr>\n",
       "      <th>10381</th>\n",
       "      <td>20030</td>\n",
       "      <td>99</td>\n",
       "      <td>20030.png</td>\n",
       "      <td>0</td>\n",
       "    </tr>\n",
       "    <tr>\n",
       "      <th>10382</th>\n",
       "      <td>20031</td>\n",
       "      <td>99</td>\n",
       "      <td>20031.png</td>\n",
       "      <td>0</td>\n",
       "    </tr>\n",
       "    <tr>\n",
       "      <th>10383</th>\n",
       "      <td>20032</td>\n",
       "      <td>99</td>\n",
       "      <td>20032.png</td>\n",
       "      <td>0</td>\n",
       "    </tr>\n",
       "  </tbody>\n",
       "</table>\n",
       "<p>20280 rows × 4 columns</p>\n",
       "</div>"
      ],
      "text/plain": [
       "       InstanceID  patientID  ImageName  isCancerous\n",
       "0           22405          1  22405.png            0\n",
       "1           22406          1  22406.png            0\n",
       "2           22407          1  22407.png            0\n",
       "3           22408          1  22408.png            0\n",
       "4           22409          1  22409.png            0\n",
       "...           ...        ...        ...          ...\n",
       "10379       20028         99  20028.png            0\n",
       "10380       20029         99  20029.png            0\n",
       "10381       20030         99  20030.png            0\n",
       "10382       20031         99  20031.png            0\n",
       "10383       20032         99  20032.png            0\n",
       "\n",
       "[20280 rows x 4 columns]"
      ]
     },
     "execution_count": 12,
     "metadata": {},
     "output_type": "execute_result"
    }
   ],
   "source": [
    "Combined = pd.concat([predict_cancerous,extradata])\n",
    "Combined "
   ]
  },
  {
   "cell_type": "code",
   "execution_count": 13,
   "metadata": {},
   "outputs": [
    {
     "name": "stdout",
     "output_type": "stream",
     "text": [
      "Train data : 12168, Val Data: 4056, Test Data: 4056\n"
     ]
    }
   ],
   "source": [
    "# since we need to classify images cancerousor not ,so we have only 2 class. \n",
    "\n",
    "OUTPUT_CLASSES = 2 \n",
    "train_data, test_data = train_test_split(Combined, test_size=0.2, random_state=42)\n",
    "train_data, val_data = train_test_split(train_data, test_size=0.25, random_state=42)\n",
    "\n",
    "print(\"Train data : {}, Val Data: {}, Test Data: {}\".format(train_data.shape[0], val_data.shape[0], test_data.shape[0]))"
   ]
  },
  {
   "cell_type": "code",
   "execution_count": 14,
   "metadata": {},
   "outputs": [
    {
     "name": "stdout",
     "output_type": "stream",
     "text": [
      "0    13211\n",
      "1     7069\n",
      "Name: isCancerous, dtype: int64\n"
     ]
    },
    {
     "data": {
      "image/png": "[encoded data removed]",
      "text/plain": [
       "<Figure size 432x288 with 1 Axes>"
      ]
     },
     "metadata": {
      "needs_background": "light"
     },
     "output_type": "display_data"
    }
   ],
   "source": [
    "# Lets check the class\n",
    "\n",
    "print(Combined['isCancerous'].value_counts())\n",
    "Combined.isCancerous.hist()\n",
    "plt.show()"
   ]
  },
  {
   "cell_type": "code",
   "execution_count": null,
   "metadata": {},
   "outputs": [],
   "source": []
  },
  {
   "cell_type": "markdown",
   "metadata": {},
   "source": [
    "We will use ImageDataGenerator to perform data transformation on the images.\n",
    "Through ImageDataGenerator one can apply any kind of transformations on images as it is passed to the model. This will not only make the model robust, but saves up on the overhead memory.\n",
    "Here we will apply ImageDataGenerator to all train test and validation data"
   ]
  },
  {
   "cell_type": "code",
   "execution_count": 15,
   "metadata": {},
   "outputs": [
    {
     "name": "stderr",
     "output_type": "stream",
     "text": [
      "C:\\Users\\aparu\\anaconda3\\lib\\site-packages\\ipykernel_launcher.py:3: SettingWithCopyWarning: \n",
      "A value is trying to be set on a copy of a slice from a DataFrame.\n",
      "Try using .loc[row_indexer,col_indexer] = value instead\n",
      "\n",
      "See the caveats in the documentation: https://pandas.pydata.org/pandas-docs/stable/user_guide/indexing.html#returning-a-view-versus-a-copy\n",
      "  This is separate from the ipykernel package so we can avoid doing imports until\n"
     ]
    },
    {
     "name": "stdout",
     "output_type": "stream",
     "text": [
      "Found 12168 validated image filenames belonging to 2 classes.\n",
      "Found 4056 validated image filenames belonging to 2 classes.\n",
      "Found 4056 validated image filenames belonging to 2 classes.\n"
     ]
    }
   ],
   "source": [
    "train_data['isCancerous'] = train_data['isCancerous'].astype('str')\n",
    "val_data['isCancerous'] = val_data['isCancerous'].astype('str')\n",
    "test_data['isCancerous'] = test_data['isCancerous'].astype('str')\n",
    "\n",
    "from tensorflow.keras.preprocessing.image import ImageDataGenerator\n",
    "\n",
    "train_datagen = ImageDataGenerator(rescale=1./255, data_format='channels_last')\n",
    "val_datagen = ImageDataGenerator(rescale=1./255, data_format='channels_last')\n",
    "\n",
    "test_datagen =ImageDataGenerator(rescale=1./255, data_format='channels_last')\n",
    "\n",
    "batch_size = 32\n",
    "\n",
    "train_generator = train_datagen.flow_from_dataframe(\n",
    "        dataframe=train_data,\n",
    "        directory='./patch_images/',\n",
    "        x_col=\"ImageName\",\n",
    "        y_col=\"isCancerous\",\n",
    "        target_size=(32, 32),\n",
    "        batch_size=batch_size,\n",
    "        class_mode='categorical')\n",
    "\n",
    "validation_generator = val_datagen.flow_from_dataframe(\n",
    "        dataframe=val_data,\n",
    "        directory='./patch_images/',\n",
    "        x_col=\"ImageName\",\n",
    "        y_col=\"isCancerous\",\n",
    "        target_size=(32, 32),\n",
    "        batch_size=batch_size,\n",
    "        class_mode='categorical')\n",
    "\n",
    "test_generator = test_datagen.flow_from_dataframe(\n",
    "        dataframe=test_data,\n",
    "        directory='./patch_images/',\n",
    "        x_col=\"ImageName\",\n",
    "        y_col=\"isCancerous\",\n",
    "        target_size=(32, 32),\n",
    "        batch_size=batch_size,\n",
    "        class_mode='categorical')"
   ]
  },
  {
   "cell_type": "markdown",
   "metadata": {},
   "source": [
    "Create a tf.keras.callbacks.ModelCheckpoint callback that saves weights only during training. ModelCheckPoint saves the important parameters like weights of model at that point."
   ]
  },
  {
   "cell_type": "code",
   "execution_count": 16,
   "metadata": {},
   "outputs": [],
   "source": [
    "\n",
    "import tensorflow as tf\n",
    "from tensorflow.keras.callbacks import ModelCheckpoint\n",
    "import os\n",
    "\n",
    "checkpoint_path = \"./Checkpoint/\"\n",
    "checkpoint_dir = os.path.dirname(checkpoint_path)\n",
    "\n",
    "# Create a callback that saves the model's weights\n",
    "cp_callback = tf.keras.callbacks.ModelCheckpoint(filepath=checkpoint_path,\n",
    "                                                 save_weights_only=True,\n",
    "                                                 verbose=1)"
   ]
  },
  {
   "cell_type": "code",
   "execution_count": null,
   "metadata": {},
   "outputs": [],
   "source": []
  },
  {
   "cell_type": "markdown",
   "metadata": {},
   "source": [
    "First we will build model for prediction cancer. We will try to find out the best model (check if  baseline model if the best or its regularized or augmented model is best or not).\n",
    "\n",
    "Once best model is selected , we will save its weight by calling callback in .fit() method."
   ]
  },
  {
   "cell_type": "markdown",
   "metadata": {},
   "source": [
    "# DATA MODELLING TO PREDICT PATIENT HAVING CANCER OR NOT"
   ]
  },
  {
   "cell_type": "markdown",
   "metadata": {},
   "source": [
    "# Baseline Model"
   ]
  },
  {
   "cell_type": "code",
   "execution_count": 17,
   "metadata": {},
   "outputs": [],
   "source": [
    "# Modelling \n",
    "\n",
    "\n",
    "import matplotlib.pyplot as plt\n",
    "def plot_learning_curve(train_loss, val_loss, train_metric, val_metric, metric_name='Accuracy'):\n",
    "    plt.figure(figsize=(10,5))\n",
    "    \n",
    "    plt.subplot(1,2,1)\n",
    "    plt.plot(train_loss, 'r--')\n",
    "    plt.plot(val_loss, 'b--')\n",
    "    plt.xlabel(\"epochs\")\n",
    "    plt.ylabel(\"Loss\")\n",
    "    plt.legend(['train', 'val'], loc='upper left')\n",
    "\n",
    "    plt.subplot(1,2,2)\n",
    "    plt.plot(train_metric, 'r--')\n",
    "    plt.plot(val_metric, 'b--')\n",
    "    plt.xlabel(\"epochs\")\n",
    "    plt.ylabel(metric_name)\n",
    "    plt.legend(['train', 'val'], loc='upper left')\n",
    "\n",
    "    plt.show()"
   ]
  },
  {
   "cell_type": "code",
   "execution_count": 18,
   "metadata": {},
   "outputs": [],
   "source": [
    "# Default Baseline Model\n",
    "\n",
    "import tensorflow as tf\n",
    "\n",
    "\n",
    "model_1 = tf.keras.Sequential([\n",
    "    \n",
    "    tf.keras.layers.Conv2D(32, (3, 3), activation='relu', padding='same', input_shape=(32, 32, 3)),\n",
    "    tf.keras.layers.Conv2D(32, (3, 3), activation='relu', padding='same'),\n",
    "    tf.keras.layers.MaxPooling2D((2, 2)),\n",
    "    \n",
    "    \n",
    "    tf.keras.layers.Conv2D(64, (3, 3), activation='relu', padding='same'),\n",
    "    tf.keras.layers.Conv2D(64, (3, 3), activation='relu', padding='same'),\n",
    "    tf.keras.layers.MaxPooling2D((2, 2)),\n",
    "    \n",
    "    \n",
    "    tf.keras.layers.Conv2D(128, (3, 3), activation='relu', padding='same'),\n",
    "    tf.keras.layers.Conv2D(128, (3, 3), activation='relu', padding='same'),\n",
    "    tf.keras.layers.MaxPooling2D((2, 2)),\n",
    "    \n",
    "    tf.keras.layers.Flatten(),\n",
    "    tf.keras.layers.Dense(128, activation='relu'),\n",
    "    tf.keras.layers.Dense(OUTPUT_CLASSES),\n",
    "])"
   ]
  },
  {
   "cell_type": "code",
   "execution_count": 19,
   "metadata": {},
   "outputs": [
    {
     "name": "stdout",
     "output_type": "stream",
     "text": [
      "Model: \"sequential\"\n",
      "_________________________________________________________________\n",
      "Layer (type)                 Output Shape              Param #   \n",
      "=================================================================\n",
      "conv2d (Conv2D)              (None, 32, 32, 32)        896       \n",
      "_________________________________________________________________\n",
      "conv2d_1 (Conv2D)            (None, 32, 32, 32)        9248      \n",
      "_________________________________________________________________\n",
      "max_pooling2d (MaxPooling2D) (None, 16, 16, 32)        0         \n",
      "_________________________________________________________________\n",
      "conv2d_2 (Conv2D)            (None, 16, 16, 64)        18496     \n",
      "_________________________________________________________________\n",
      "conv2d_3 (Conv2D)            (None, 16, 16, 64)        36928     \n",
      "_________________________________________________________________\n",
      "max_pooling2d_1 (MaxPooling2 (None, 8, 8, 64)          0         \n",
      "_________________________________________________________________\n",
      "conv2d_4 (Conv2D)            (None, 8, 8, 128)         73856     \n",
      "_________________________________________________________________\n",
      "conv2d_5 (Conv2D)            (None, 8, 8, 128)         147584    \n",
      "_________________________________________________________________\n",
      "max_pooling2d_2 (MaxPooling2 (None, 4, 4, 128)         0         \n",
      "_________________________________________________________________\n",
      "flatten (Flatten)            (None, 2048)              0         \n",
      "_________________________________________________________________\n",
      "dense (Dense)                (None, 128)               262272    \n",
      "_________________________________________________________________\n",
      "dense_1 (Dense)              (None, 2)                 258       \n",
      "=================================================================\n",
      "Total params: 549,538\n",
      "Trainable params: 549,538\n",
      "Non-trainable params: 0\n",
      "_________________________________________________________________\n"
     ]
    }
   ],
   "source": [
    "model_1.summary()"
   ]
  },
  {
   "cell_type": "code",
   "execution_count": 20,
   "metadata": {},
   "outputs": [
    {
     "name": "stdout",
     "output_type": "stream",
     "text": [
      "WARNING:tensorflow:From <ipython-input-20-8cead73fe8eb>:5: Model.fit_generator (from tensorflow.python.keras.engine.training) is deprecated and will be removed in a future version.\n",
      "Instructions for updating:\n",
      "Please use Model.fit, which supports generators.\n"
     ]
    },
    {
     "data": {
      "image/png": "[encoded data removed]",
      "text/plain": [
       "<Figure size 720x360 with 2 Axes>"
      ]
     },
     "metadata": {
      "needs_background": "light"
     },
     "output_type": "display_data"
    }
   ],
   "source": [
    "model_1.compile(optimizer='adam',\n",
    "              loss=tf.keras.losses.CategoricalCrossentropy(from_logits=True),\n",
    "              metrics=['categorical_accuracy'])\n",
    "history_1 = model_1.fit_generator(train_generator, validation_data = validation_generator,\n",
    "                                  epochs=25, verbose=0)\n",
    "\n",
    "plot_learning_curve(history_1.history['loss'], history_1.history['val_loss'], \n",
    "                    history_1.history['categorical_accuracy'], history_1.history['val_categorical_accuracy'], \n",
    "                    metric_name='Accuracy')"
   ]
  },
  {
   "cell_type": "code",
   "execution_count": null,
   "metadata": {},
   "outputs": [],
   "source": []
  },
  {
   "cell_type": "markdown",
   "metadata": {},
   "source": [
    "From the above plot ,we can see that validation loss increases and validation accuracy does not improves with number of epochs,therefore we will try to regularize it and see how accuracy improves."
   ]
  },
  {
   "cell_type": "markdown",
   "metadata": {},
   "source": [
    "# Regularization /Parameter tuning"
   ]
  },
  {
   "cell_type": "markdown",
   "metadata": {},
   "source": [
    "In regualized model ,we will provide lambda value =0.001 , optimizer = Adam ,Dropout = 0.2."
   ]
  },
  {
   "cell_type": "code",
   "execution_count": 21,
   "metadata": {},
   "outputs": [],
   "source": [
    "\n",
    "\n",
    "\n",
    "reg_lambda = 0.001\n",
    "\n",
    "model_2 = tf.keras.Sequential([\n",
    "    \n",
    "    tf.keras.layers.Conv2D(32, (3, 3), activation='relu', padding='same', \n",
    "                           kernel_regularizer=tf.keras.regularizers.l2(reg_lambda), input_shape=(32, 32, 3)),\n",
    "    tf.keras.layers.Conv2D(32, (3, 3), activation='relu', padding='same', \n",
    "                           kernel_regularizer=tf.keras.regularizers.l2(reg_lambda)),\n",
    "    tf.keras.layers.MaxPooling2D((2, 2)),\n",
    "    \n",
    "    \n",
    "    tf.keras.layers.Conv2D(64, (3, 3), activation='relu', padding='same', \n",
    "                           kernel_regularizer=tf.keras.regularizers.l2(reg_lambda)),\n",
    "    tf.keras.layers.Conv2D(64, (3, 3), activation='relu', padding='same', \n",
    "                           kernel_regularizer=tf.keras.regularizers.l2(reg_lambda)),\n",
    "    tf.keras.layers.MaxPooling2D((2, 2)),\n",
    "    \n",
    "   \n",
    "    tf.keras.layers.Conv2D(128, (3, 3), activation='relu', padding='same', \n",
    "                           kernel_regularizer=tf.keras.regularizers.l2(reg_lambda)),\n",
    "    tf.keras.layers.Conv2D(128, (3, 3), activation='relu', padding='same', \n",
    "                           kernel_regularizer=tf.keras.regularizers.l2(reg_lambda)),\n",
    "    tf.keras.layers.MaxPooling2D((2, 2)),\n",
    "    \n",
    "    tf.keras.layers.Flatten(),\n",
    "    tf.keras.layers.Dense(128, activation='relu'),\n",
    "    tf.keras.layers.Dropout(.2),\n",
    "    tf.keras.layers.Dense(OUTPUT_CLASSES),\n",
    "])\n"
   ]
  },
  {
   "cell_type": "code",
   "execution_count": 22,
   "metadata": {},
   "outputs": [
    {
     "name": "stdout",
     "output_type": "stream",
     "text": [
      "Model: \"sequential_1\"\n",
      "_________________________________________________________________\n",
      "Layer (type)                 Output Shape              Param #   \n",
      "=================================================================\n",
      "conv2d_6 (Conv2D)            (None, 32, 32, 32)        896       \n",
      "_________________________________________________________________\n",
      "conv2d_7 (Conv2D)            (None, 32, 32, 32)        9248      \n",
      "_________________________________________________________________\n",
      "max_pooling2d_3 (MaxPooling2 (None, 16, 16, 32)        0         \n",
      "_________________________________________________________________\n",
      "conv2d_8 (Conv2D)            (None, 16, 16, 64)        18496     \n",
      "_________________________________________________________________\n",
      "conv2d_9 (Conv2D)            (None, 16, 16, 64)        36928     \n",
      "_________________________________________________________________\n",
      "max_pooling2d_4 (MaxPooling2 (None, 8, 8, 64)          0         \n",
      "_________________________________________________________________\n",
      "conv2d_10 (Conv2D)           (None, 8, 8, 128)         73856     \n",
      "_________________________________________________________________\n",
      "conv2d_11 (Conv2D)           (None, 8, 8, 128)         147584    \n",
      "_________________________________________________________________\n",
      "max_pooling2d_5 (MaxPooling2 (None, 4, 4, 128)         0         \n",
      "_________________________________________________________________\n",
      "flatten_1 (Flatten)          (None, 2048)              0         \n",
      "_________________________________________________________________\n",
      "dense_2 (Dense)              (None, 128)               262272    \n",
      "_________________________________________________________________\n",
      "dropout (Dropout)            (None, 128)               0         \n",
      "_________________________________________________________________\n",
      "dense_3 (Dense)              (None, 2)                 258       \n",
      "=================================================================\n",
      "Total params: 549,538\n",
      "Trainable params: 549,538\n",
      "Non-trainable params: 0\n",
      "_________________________________________________________________\n"
     ]
    }
   ],
   "source": [
    "model_2.summary()"
   ]
  },
  {
   "cell_type": "code",
   "execution_count": 23,
   "metadata": {},
   "outputs": [
    {
     "data": {
      "image/png": "[encoded data removed]",
      "text/plain": [
       "<Figure size 720x360 with 2 Axes>"
      ]
     },
     "metadata": {
      "needs_background": "light"
     },
     "output_type": "display_data"
    }
   ],
   "source": [
    "\n",
    "model_2.compile(optimizer='adam',\n",
    "              loss=tf.keras.losses.CategoricalCrossentropy(from_logits=True),\n",
    "              metrics=['categorical_accuracy'])\n",
    "history_2 = model_2.fit_generator(train_generator, validation_data = validation_generator, epochs=25, verbose=0)\n",
    "plot_learning_curve(history_2.history['loss'], history_2.history['val_loss'], \n",
    "                    history_2.history['categorical_accuracy'], history_2.history['val_categorical_accuracy'], \n",
    "                    metric_name='Accuracy')"
   ]
  },
  {
   "cell_type": "markdown",
   "metadata": {},
   "source": [
    "From the above plot we can see that after applying regularization, validation and traning loss decreases and accuracy for both increases .Now we will try to perform data augmentation and see if further improvements could be done in model."
   ]
  },
  {
   "cell_type": "markdown",
   "metadata": {},
   "source": [
    "# Data Augmentation"
   ]
  },
  {
   "cell_type": "markdown",
   "metadata": {},
   "source": [
    "In data augmentation we will provide follwing parameters in model\n",
    "\n",
    "lambda =0.001\n",
    "\n",
    "optimizer =Adam\n",
    "\n",
    "Dropout = 0.2\n"
   ]
  },
  {
   "cell_type": "code",
   "execution_count": 24,
   "metadata": {},
   "outputs": [
    {
     "name": "stderr",
     "output_type": "stream",
     "text": [
      "C:\\Users\\aparu\\anaconda3\\lib\\site-packages\\ipykernel_launcher.py:3: SettingWithCopyWarning: \n",
      "A value is trying to be set on a copy of a slice from a DataFrame.\n",
      "Try using .loc[row_indexer,col_indexer] = value instead\n",
      "\n",
      "See the caveats in the documentation: https://pandas.pydata.org/pandas-docs/stable/user_guide/indexing.html#returning-a-view-versus-a-copy\n",
      "  This is separate from the ipykernel package so we can avoid doing imports until\n"
     ]
    },
    {
     "name": "stdout",
     "output_type": "stream",
     "text": [
      "Found 12168 validated image filenames belonging to 2 classes.\n",
      "Found 4056 validated image filenames belonging to 2 classes.\n",
      "Found 4056 validated image filenames belonging to 2 classes.\n"
     ]
    }
   ],
   "source": [
    "train_data['isCancerous'] = train_data['isCancerous'].astype('str')\n",
    "val_data['isCancerous'] = val_data['isCancerous'].astype('str')\n",
    "test_data['isCancerous'] = test_data['isCancerous'].astype('str')\n",
    "\n",
    "from tensorflow.keras.preprocessing.image import ImageDataGenerator\n",
    "\n",
    "train_datagen = ImageDataGenerator(rescale=1./255, data_format='channels_last',\n",
    "                                   rotation_range=15, width_shift_range=0.2,\n",
    "                                   height_shift_range=0.2, brightness_range=[0.5,1.5])\n",
    "val_datagen = ImageDataGenerator(rescale=1./255, data_format='channels_last')\n",
    "\n",
    "test_datagen =ImageDataGenerator(rescale=1./255, data_format='channels_last')\n",
    "\n",
    "batch_size = 32\n",
    "\n",
    "train_generator = train_datagen.flow_from_dataframe(\n",
    "        dataframe=train_data,\n",
    "        directory='./patch_images/',\n",
    "        x_col=\"ImageName\",\n",
    "        y_col=\"isCancerous\",\n",
    "        target_size=(32, 32),\n",
    "        batch_size=batch_size,\n",
    "        class_mode='categorical')\n",
    "\n",
    "validation_generator = val_datagen.flow_from_dataframe(\n",
    "        dataframe=val_data,\n",
    "        directory='./patch_images/',\n",
    "        x_col=\"ImageName\",\n",
    "        y_col=\"isCancerous\",\n",
    "        target_size=(32, 32),\n",
    "        batch_size=batch_size,\n",
    "        class_mode='categorical')\n",
    "\n",
    "test_generator = test_datagen.flow_from_dataframe(\n",
    "        dataframe=test_data,\n",
    "        directory='./patch_images/',\n",
    "        x_col=\"ImageName\",\n",
    "        y_col=\"isCancerous\",\n",
    "        target_size=(32, 32),\n",
    "        batch_size=batch_size,\n",
    "        class_mode='categorical')"
   ]
  },
  {
   "cell_type": "code",
   "execution_count": 25,
   "metadata": {},
   "outputs": [],
   "source": [
    "reg_lambda = 0.001\n",
    "\n",
    "model_final = tf.keras.Sequential([\n",
    "    \n",
    "    tf.keras.layers.Conv2D(32, (3, 3), activation='relu', padding='same', \n",
    "                           kernel_regularizer=tf.keras.regularizers.l2(reg_lambda), input_shape=(32, 32, 3)),\n",
    "    tf.keras.layers.Conv2D(32, (3, 3), activation='relu', padding='same', \n",
    "                           kernel_regularizer=tf.keras.regularizers.l2(reg_lambda)),\n",
    "    tf.keras.layers.MaxPooling2D((2, 2)),\n",
    "    \n",
    "    \n",
    "    tf.keras.layers.Conv2D(64, (3, 3), activation='relu', padding='same', \n",
    "                           kernel_regularizer=tf.keras.regularizers.l2(reg_lambda)),\n",
    "    tf.keras.layers.Conv2D(64, (3, 3), activation='relu', padding='same', \n",
    "                           kernel_regularizer=tf.keras.regularizers.l2(reg_lambda)),\n",
    "    tf.keras.layers.MaxPooling2D((2, 2)),\n",
    "    \n",
    "   \n",
    "    tf.keras.layers.Conv2D(128, (3, 3), activation='relu', padding='same', \n",
    "                           kernel_regularizer=tf.keras.regularizers.l2(reg_lambda)),\n",
    "    tf.keras.layers.Conv2D(128, (3, 3), activation='relu', padding='same', \n",
    "                           kernel_regularizer=tf.keras.regularizers.l2(reg_lambda)),\n",
    "    tf.keras.layers.MaxPooling2D((2, 2)),\n",
    "    \n",
    "    tf.keras.layers.Flatten(),\n",
    "    tf.keras.layers.Dense(128, activation='relu'),\n",
    "    tf.keras.layers.Dropout(.2),\n",
    "    tf.keras.layers.Dense(OUTPUT_CLASSES),\n",
    "])"
   ]
  },
  {
   "cell_type": "code",
   "execution_count": 26,
   "metadata": {},
   "outputs": [
    {
     "name": "stdout",
     "output_type": "stream",
     "text": [
      "Model: \"sequential_2\"\n",
      "_________________________________________________________________\n",
      "Layer (type)                 Output Shape              Param #   \n",
      "=================================================================\n",
      "conv2d_12 (Conv2D)           (None, 32, 32, 32)        896       \n",
      "_________________________________________________________________\n",
      "conv2d_13 (Conv2D)           (None, 32, 32, 32)        9248      \n",
      "_________________________________________________________________\n",
      "max_pooling2d_6 (MaxPooling2 (None, 16, 16, 32)        0         \n",
      "_________________________________________________________________\n",
      "conv2d_14 (Conv2D)           (None, 16, 16, 64)        18496     \n",
      "_________________________________________________________________\n",
      "conv2d_15 (Conv2D)           (None, 16, 16, 64)        36928     \n",
      "_________________________________________________________________\n",
      "max_pooling2d_7 (MaxPooling2 (None, 8, 8, 64)          0         \n",
      "_________________________________________________________________\n",
      "conv2d_16 (Conv2D)           (None, 8, 8, 128)         73856     \n",
      "_________________________________________________________________\n",
      "conv2d_17 (Conv2D)           (None, 8, 8, 128)         147584    \n",
      "_________________________________________________________________\n",
      "max_pooling2d_8 (MaxPooling2 (None, 4, 4, 128)         0         \n",
      "_________________________________________________________________\n",
      "flatten_2 (Flatten)          (None, 2048)              0         \n",
      "_________________________________________________________________\n",
      "dense_4 (Dense)              (None, 128)               262272    \n",
      "_________________________________________________________________\n",
      "dropout_1 (Dropout)          (None, 128)               0         \n",
      "_________________________________________________________________\n",
      "dense_5 (Dense)              (None, 2)                 258       \n",
      "=================================================================\n",
      "Total params: 549,538\n",
      "Trainable params: 549,538\n",
      "Non-trainable params: 0\n",
      "_________________________________________________________________\n"
     ]
    }
   ],
   "source": [
    "model_final.summary()"
   ]
  },
  {
   "cell_type": "code",
   "execution_count": 27,
   "metadata": {},
   "outputs": [],
   "source": [
    "model_final.compile(optimizer='adam',\n",
    "              loss=tf.keras.losses.CategoricalCrossentropy(from_logits=True),\n",
    "              metrics=['categorical_accuracy'])\n",
    "history_3 = model_final.fit_generator(train_generator, validation_data = validation_generator, epochs=25, verbose=0)\n"
   ]
  },
  {
   "cell_type": "code",
   "execution_count": 28,
   "metadata": {},
   "outputs": [
    {
     "data": {
      "image/png": "[encoded data removed]",
      "text/plain": [
       "<Figure size 720x360 with 2 Axes>"
      ]
     },
     "metadata": {
      "needs_background": "light"
     },
     "output_type": "display_data"
    }
   ],
   "source": [
    "plot_learning_curve(history_3.history['loss'], history_3.history['val_loss'], \n",
    "                    history_3.history['categorical_accuracy'], history_3.history['val_categorical_accuracy'], \n",
    "                    metric_name='Accuracy')"
   ]
  },
  {
   "cell_type": "markdown",
   "metadata": {},
   "source": [
    "We can see that this model tends towards high accuracy with few downs. We will proceed wth this model and will try to predict on test data."
   ]
  },
  {
   "cell_type": "code",
   "execution_count": 29,
   "metadata": {},
   "outputs": [
    {
     "name": "stdout",
     "output_type": "stream",
     "text": [
      "127/127 [==============================] - 5s 36ms/step - loss: 0.3038 - categorical_accuracy: 0.8809\n",
      "Test Accuracy: 88.09%\n",
      "381/381 [==============================] - 30s 80ms/step - loss: 0.3181 - categorical_accuracy: 0.8764\n",
      "Train Accuracy: 87.64%\n"
     ]
    }
   ],
   "source": [
    "# Apply on test and train data to predict accuracy of both\n",
    "\n",
    "predict = model_final.predict(test_generator)\n",
    "\n",
    "test_evaluation = model_final.evaluate(test_generator)\n",
    "print(f\"Test Accuracy: {test_evaluation[1] * 100:.2f}%\")\n",
    "\n",
    "\n",
    "train_evaluation = model_final.evaluate(train_generator)\n",
    "print(f\"Train Accuracy: {train_evaluation[1] * 100:.2f}%\")"
   ]
  },
  {
   "cell_type": "markdown",
   "metadata": {},
   "source": [
    "So we can see that test accuracy has improved and is nearly train accuracy .Hence our final model can predict well with unknown dataset to determine if that data /image is cancerous or not.\n",
    "\n",
    "So we will try to save this model weights by implementing callbacks inside.fit()."
   ]
  },
  {
   "cell_type": "code",
   "execution_count": 30,
   "metadata": {},
   "outputs": [
    {
     "name": "stdout",
     "output_type": "stream",
     "text": [
      "\n",
      "Epoch 00001: saving model to ./Checkpoint\\\n",
      "\n",
      "Epoch 00002: saving model to ./Checkpoint\\\n",
      "\n",
      "Epoch 00003: saving model to ./Checkpoint\\\n",
      "\n",
      "Epoch 00004: saving model to ./Checkpoint\\\n",
      "\n",
      "Epoch 00005: saving model to ./Checkpoint\\\n",
      "\n",
      "Epoch 00006: saving model to ./Checkpoint\\\n",
      "\n",
      "Epoch 00007: saving model to ./Checkpoint\\\n",
      "\n",
      "Epoch 00008: saving model to ./Checkpoint\\\n",
      "\n",
      "Epoch 00009: saving model to ./Checkpoint\\\n",
      "\n",
      "Epoch 00010: saving model to ./Checkpoint\\\n",
      "\n",
      "Epoch 00011: saving model to ./Checkpoint\\\n",
      "\n",
      "Epoch 00012: saving model to ./Checkpoint\\\n",
      "\n",
      "Epoch 00013: saving model to ./Checkpoint\\\n",
      "\n",
      "Epoch 00014: saving model to ./Checkpoint\\\n",
      "\n",
      "Epoch 00015: saving model to ./Checkpoint\\\n",
      "\n",
      "Epoch 00016: saving model to ./Checkpoint\\\n",
      "\n",
      "Epoch 00017: saving model to ./Checkpoint\\\n",
      "\n",
      "Epoch 00018: saving model to ./Checkpoint\\\n",
      "\n",
      "Epoch 00019: saving model to ./Checkpoint\\\n",
      "\n",
      "Epoch 00020: saving model to ./Checkpoint\\\n",
      "\n",
      "Epoch 00021: saving model to ./Checkpoint\\\n",
      "\n",
      "Epoch 00022: saving model to ./Checkpoint\\\n",
      "\n",
      "Epoch 00023: saving model to ./Checkpoint\\\n",
      "\n",
      "Epoch 00024: saving model to ./Checkpoint\\\n",
      "\n",
      "Epoch 00025: saving model to ./Checkpoint\\\n"
     ]
    }
   ],
   "source": [
    "model_final.compile(optimizer='adam',\n",
    "              loss=tf.keras.losses.CategoricalCrossentropy(from_logits=True),\n",
    "              metrics=['categorical_accuracy'])\n",
    "history_3 = model_final.fit_generator(train_generator, validation_data = validation_generator, epochs=25, verbose=0,callbacks=[cp_callback])\n"
   ]
  },
  {
   "cell_type": "code",
   "execution_count": 31,
   "metadata": {},
   "outputs": [
    {
     "data": {
      "text/plain": [
       "['.data-00000-of-00001',\n",
       " '.index',\n",
       " 'checkpoint',\n",
       " '_temp_d3b51039c95c49f5967162fbb8302b91']"
      ]
     },
     "execution_count": 31,
     "metadata": {},
     "output_type": "execute_result"
    }
   ],
   "source": [
    "#creates a single collection of TensorFlow checkpoint files that are updated at the end of each epoch\n",
    "\n",
    "os.listdir(checkpoint_dir) "
   ]
  },
  {
   "cell_type": "code",
   "execution_count": null,
   "metadata": {},
   "outputs": [],
   "source": []
  },
  {
   "cell_type": "markdown",
   "metadata": {},
   "source": [
    "# TASK 2"
   ]
  },
  {
   "cell_type": "markdown",
   "metadata": {},
   "source": [
    "\n",
    "TASK 2 : Classify images according to cell-type, such as: fibroblast, inflammatory,\n",
    "epithelial or others."
   ]
  },
  {
   "cell_type": "markdown",
   "metadata": {},
   "source": [
    "Here cellType have been numbered for following cell names \n",
    "\n",
    "fibroblast - 0\n",
    "\n",
    "inflammatory - 1\n",
    "\n",
    "epithelial - 2\n",
    "\n",
    "others - 3"
   ]
  },
  {
   "cell_type": "code",
   "execution_count": 32,
   "metadata": {},
   "outputs": [],
   "source": [
    "with zipfile.ZipFile('./patch_images.zip', 'r') as zip_ref:\n",
    "    zip_ref.extractall('./')"
   ]
  },
  {
   "cell_type": "code",
   "execution_count": 33,
   "metadata": {},
   "outputs": [
    {
     "name": "stdout",
     "output_type": "stream",
     "text": [
      "Train data : 5937, Val Data: 1979, Test Data: 1980\n"
     ]
    }
   ],
   "source": [
    "data = pd.read_csv('./data_labels_mainData.csv')\n",
    "\n",
    "# since we need to classify images cell type ,so we have only 4 class. \n",
    "\n",
    "OUTPUT_CLASSES = 4 \n",
    "train_data, test_data = train_test_split(data, test_size=0.2, random_state=42)\n",
    "train_data, val_data = train_test_split(train_data, test_size=0.25, random_state=42)\n",
    "\n",
    "print(\"Train data : {}, Val Data: {}, Test Data: {}\".format(train_data.shape[0], val_data.shape[0], test_data.shape[0]))"
   ]
  },
  {
   "cell_type": "code",
   "execution_count": 34,
   "metadata": {},
   "outputs": [
    {
     "data": {
      "text/plain": [
       "(5937, 6)"
      ]
     },
     "execution_count": 34,
     "metadata": {},
     "output_type": "execute_result"
    }
   ],
   "source": [
    "train_data.shape"
   ]
  },
  {
   "cell_type": "code",
   "execution_count": 35,
   "metadata": {},
   "outputs": [
    {
     "data": {
      "text/plain": [
       "(1979, 6)"
      ]
     },
     "execution_count": 35,
     "metadata": {},
     "output_type": "execute_result"
    }
   ],
   "source": [
    "val_data.shape"
   ]
  },
  {
   "cell_type": "code",
   "execution_count": 36,
   "metadata": {},
   "outputs": [
    {
     "data": {
      "text/plain": [
       "(1980, 6)"
      ]
     },
     "execution_count": 36,
     "metadata": {},
     "output_type": "execute_result"
    }
   ],
   "source": [
    "test_data.shape"
   ]
  },
  {
   "cell_type": "code",
   "execution_count": 37,
   "metadata": {},
   "outputs": [
    {
     "data": {
      "text/html": [
       "<div>\n",
       "<style scoped>\n",
       "    .dataframe tbody tr th:only-of-type {\n",
       "        vertical-align: middle;\n",
       "    }\n",
       "\n",
       "    .dataframe tbody tr th {\n",
       "        vertical-align: top;\n",
       "    }\n",
       "\n",
       "    .dataframe thead th {\n",
       "        text-align: right;\n",
       "    }\n",
       "</style>\n",
       "<table border=\"1\" class=\"dataframe\">\n",
       "  <thead>\n",
       "    <tr style=\"text-align: right;\">\n",
       "      <th></th>\n",
       "      <th>InstanceID</th>\n",
       "      <th>patientID</th>\n",
       "      <th>ImageName</th>\n",
       "      <th>cellTypeName</th>\n",
       "      <th>cellType</th>\n",
       "      <th>isCancerous</th>\n",
       "    </tr>\n",
       "  </thead>\n",
       "  <tbody>\n",
       "    <tr>\n",
       "      <th>0</th>\n",
       "      <td>22405</td>\n",
       "      <td>1</td>\n",
       "      <td>22405.png</td>\n",
       "      <td>fibroblast</td>\n",
       "      <td>0</td>\n",
       "      <td>0</td>\n",
       "    </tr>\n",
       "    <tr>\n",
       "      <th>1</th>\n",
       "      <td>22406</td>\n",
       "      <td>1</td>\n",
       "      <td>22406.png</td>\n",
       "      <td>fibroblast</td>\n",
       "      <td>0</td>\n",
       "      <td>0</td>\n",
       "    </tr>\n",
       "    <tr>\n",
       "      <th>2</th>\n",
       "      <td>22407</td>\n",
       "      <td>1</td>\n",
       "      <td>22407.png</td>\n",
       "      <td>fibroblast</td>\n",
       "      <td>0</td>\n",
       "      <td>0</td>\n",
       "    </tr>\n",
       "    <tr>\n",
       "      <th>3</th>\n",
       "      <td>22408</td>\n",
       "      <td>1</td>\n",
       "      <td>22408.png</td>\n",
       "      <td>fibroblast</td>\n",
       "      <td>0</td>\n",
       "      <td>0</td>\n",
       "    </tr>\n",
       "    <tr>\n",
       "      <th>4</th>\n",
       "      <td>22409</td>\n",
       "      <td>1</td>\n",
       "      <td>22409.png</td>\n",
       "      <td>fibroblast</td>\n",
       "      <td>0</td>\n",
       "      <td>0</td>\n",
       "    </tr>\n",
       "    <tr>\n",
       "      <th>...</th>\n",
       "      <td>...</td>\n",
       "      <td>...</td>\n",
       "      <td>...</td>\n",
       "      <td>...</td>\n",
       "      <td>...</td>\n",
       "      <td>...</td>\n",
       "    </tr>\n",
       "    <tr>\n",
       "      <th>9891</th>\n",
       "      <td>1625</td>\n",
       "      <td>60</td>\n",
       "      <td>1625.png</td>\n",
       "      <td>epithelial</td>\n",
       "      <td>2</td>\n",
       "      <td>1</td>\n",
       "    </tr>\n",
       "    <tr>\n",
       "      <th>9892</th>\n",
       "      <td>1626</td>\n",
       "      <td>60</td>\n",
       "      <td>1626.png</td>\n",
       "      <td>epithelial</td>\n",
       "      <td>2</td>\n",
       "      <td>1</td>\n",
       "    </tr>\n",
       "    <tr>\n",
       "      <th>9893</th>\n",
       "      <td>1627</td>\n",
       "      <td>60</td>\n",
       "      <td>1627.png</td>\n",
       "      <td>epithelial</td>\n",
       "      <td>2</td>\n",
       "      <td>1</td>\n",
       "    </tr>\n",
       "    <tr>\n",
       "      <th>9894</th>\n",
       "      <td>1628</td>\n",
       "      <td>60</td>\n",
       "      <td>1628.png</td>\n",
       "      <td>epithelial</td>\n",
       "      <td>2</td>\n",
       "      <td>1</td>\n",
       "    </tr>\n",
       "    <tr>\n",
       "      <th>9895</th>\n",
       "      <td>1629</td>\n",
       "      <td>60</td>\n",
       "      <td>1629.png</td>\n",
       "      <td>epithelial</td>\n",
       "      <td>2</td>\n",
       "      <td>1</td>\n",
       "    </tr>\n",
       "  </tbody>\n",
       "</table>\n",
       "<p>9896 rows × 6 columns</p>\n",
       "</div>"
      ],
      "text/plain": [
       "      InstanceID  patientID  ImageName cellTypeName  cellType  isCancerous\n",
       "0          22405          1  22405.png   fibroblast         0            0\n",
       "1          22406          1  22406.png   fibroblast         0            0\n",
       "2          22407          1  22407.png   fibroblast         0            0\n",
       "3          22408          1  22408.png   fibroblast         0            0\n",
       "4          22409          1  22409.png   fibroblast         0            0\n",
       "...          ...        ...        ...          ...       ...          ...\n",
       "9891        1625         60   1625.png   epithelial         2            1\n",
       "9892        1626         60   1626.png   epithelial         2            1\n",
       "9893        1627         60   1627.png   epithelial         2            1\n",
       "9894        1628         60   1628.png   epithelial         2            1\n",
       "9895        1629         60   1629.png   epithelial         2            1\n",
       "\n",
       "[9896 rows x 6 columns]"
      ]
     },
     "execution_count": 37,
     "metadata": {},
     "output_type": "execute_result"
    }
   ],
   "source": [
    "data"
   ]
  },
  {
   "cell_type": "code",
   "execution_count": 38,
   "metadata": {},
   "outputs": [
    {
     "data": {
      "text/html": [
       "<div>\n",
       "<style scoped>\n",
       "    .dataframe tbody tr th:only-of-type {\n",
       "        vertical-align: middle;\n",
       "    }\n",
       "\n",
       "    .dataframe tbody tr th {\n",
       "        vertical-align: top;\n",
       "    }\n",
       "\n",
       "    .dataframe thead th {\n",
       "        text-align: right;\n",
       "    }\n",
       "</style>\n",
       "<table border=\"1\" class=\"dataframe\">\n",
       "  <thead>\n",
       "    <tr style=\"text-align: right;\">\n",
       "      <th></th>\n",
       "      <th>InstanceID</th>\n",
       "      <th>patientID</th>\n",
       "      <th>ImageName</th>\n",
       "      <th>cellType</th>\n",
       "    </tr>\n",
       "  </thead>\n",
       "  <tbody>\n",
       "    <tr>\n",
       "      <th>0</th>\n",
       "      <td>22405</td>\n",
       "      <td>1</td>\n",
       "      <td>22405.png</td>\n",
       "      <td>0</td>\n",
       "    </tr>\n",
       "    <tr>\n",
       "      <th>1</th>\n",
       "      <td>22406</td>\n",
       "      <td>1</td>\n",
       "      <td>22406.png</td>\n",
       "      <td>0</td>\n",
       "    </tr>\n",
       "    <tr>\n",
       "      <th>2</th>\n",
       "      <td>22407</td>\n",
       "      <td>1</td>\n",
       "      <td>22407.png</td>\n",
       "      <td>0</td>\n",
       "    </tr>\n",
       "    <tr>\n",
       "      <th>3</th>\n",
       "      <td>22408</td>\n",
       "      <td>1</td>\n",
       "      <td>22408.png</td>\n",
       "      <td>0</td>\n",
       "    </tr>\n",
       "    <tr>\n",
       "      <th>4</th>\n",
       "      <td>22409</td>\n",
       "      <td>1</td>\n",
       "      <td>22409.png</td>\n",
       "      <td>0</td>\n",
       "    </tr>\n",
       "    <tr>\n",
       "      <th>...</th>\n",
       "      <td>...</td>\n",
       "      <td>...</td>\n",
       "      <td>...</td>\n",
       "      <td>...</td>\n",
       "    </tr>\n",
       "    <tr>\n",
       "      <th>9891</th>\n",
       "      <td>1625</td>\n",
       "      <td>60</td>\n",
       "      <td>1625.png</td>\n",
       "      <td>2</td>\n",
       "    </tr>\n",
       "    <tr>\n",
       "      <th>9892</th>\n",
       "      <td>1626</td>\n",
       "      <td>60</td>\n",
       "      <td>1626.png</td>\n",
       "      <td>2</td>\n",
       "    </tr>\n",
       "    <tr>\n",
       "      <th>9893</th>\n",
       "      <td>1627</td>\n",
       "      <td>60</td>\n",
       "      <td>1627.png</td>\n",
       "      <td>2</td>\n",
       "    </tr>\n",
       "    <tr>\n",
       "      <th>9894</th>\n",
       "      <td>1628</td>\n",
       "      <td>60</td>\n",
       "      <td>1628.png</td>\n",
       "      <td>2</td>\n",
       "    </tr>\n",
       "    <tr>\n",
       "      <th>9895</th>\n",
       "      <td>1629</td>\n",
       "      <td>60</td>\n",
       "      <td>1629.png</td>\n",
       "      <td>2</td>\n",
       "    </tr>\n",
       "  </tbody>\n",
       "</table>\n",
       "<p>9896 rows × 4 columns</p>\n",
       "</div>"
      ],
      "text/plain": [
       "      InstanceID  patientID  ImageName  cellType\n",
       "0          22405          1  22405.png         0\n",
       "1          22406          1  22406.png         0\n",
       "2          22407          1  22407.png         0\n",
       "3          22408          1  22408.png         0\n",
       "4          22409          1  22409.png         0\n",
       "...          ...        ...        ...       ...\n",
       "9891        1625         60   1625.png         2\n",
       "9892        1626         60   1626.png         2\n",
       "9893        1627         60   1627.png         2\n",
       "9894        1628         60   1628.png         2\n",
       "9895        1629         60   1629.png         2\n",
       "\n",
       "[9896 rows x 4 columns]"
      ]
     },
     "execution_count": 38,
     "metadata": {},
     "output_type": "execute_result"
    }
   ],
   "source": [
    "data = data.drop(['cellTypeName','isCancerous'],axis =1)\n",
    "data"
   ]
  },
  {
   "cell_type": "code",
   "execution_count": 39,
   "metadata": {},
   "outputs": [
    {
     "name": "stdout",
     "output_type": "stream",
     "text": [
      "2    4079\n",
      "1    2543\n",
      "0    1888\n",
      "3    1386\n",
      "Name: cellType, dtype: int64\n"
     ]
    },
    {
     "data": {
      "image/png": "[encoded data removed]",
      "text/plain": [
       "<Figure size 432x288 with 1 Axes>"
      ]
     },
     "metadata": {
      "needs_background": "light"
     },
     "output_type": "display_data"
    }
   ],
   "source": [
    "# Lets us check classes\n",
    "\n",
    "print(data['cellType'].value_counts())\n",
    "data.cellType.hist()\n",
    "plt.show()"
   ]
  },
  {
   "cell_type": "markdown",
   "metadata": {},
   "source": [
    "We can see that except class2, more or less all classes does not ahve much difference in counts .So we will not carry out class balancing here."
   ]
  },
  {
   "cell_type": "markdown",
   "metadata": {},
   "source": [
    "# DATA MODELLING TO CLASSIFY CELL TYPES"
   ]
  },
  {
   "cell_type": "markdown",
   "metadata": {},
   "source": [
    "ImageDataGenerator is used order to improve the performance and ability of the model to generalize.Hence we will apply ImageDataGenerator to all train ,validation and test dataset"
   ]
  },
  {
   "cell_type": "code",
   "execution_count": 40,
   "metadata": {},
   "outputs": [
    {
     "name": "stderr",
     "output_type": "stream",
     "text": [
      "C:\\Users\\aparu\\anaconda3\\lib\\site-packages\\ipykernel_launcher.py:3: SettingWithCopyWarning: \n",
      "A value is trying to be set on a copy of a slice from a DataFrame.\n",
      "Try using .loc[row_indexer,col_indexer] = value instead\n",
      "\n",
      "See the caveats in the documentation: https://pandas.pydata.org/pandas-docs/stable/user_guide/indexing.html#returning-a-view-versus-a-copy\n",
      "  This is separate from the ipykernel package so we can avoid doing imports until\n"
     ]
    },
    {
     "name": "stdout",
     "output_type": "stream",
     "text": [
      "Found 5937 validated image filenames belonging to 4 classes.\n",
      "Found 1979 validated image filenames belonging to 4 classes.\n",
      "Found 1980 validated image filenames belonging to 4 classes.\n"
     ]
    }
   ],
   "source": [
    "train_data['cellType'] = train_data['cellType'].astype('str')\n",
    "val_data['cellType'] = val_data['cellType'].astype('str')\n",
    "test_data['cellType'] = test_data['cellType'].astype('str')\n",
    "\n",
    "from tensorflow.keras.preprocessing.image import ImageDataGenerator\n",
    "\n",
    "train_datagen = ImageDataGenerator(rescale=1./255, data_format='channels_last')\n",
    "val_datagen = ImageDataGenerator(rescale=1./255, data_format='channels_last')\n",
    "\n",
    "test_datagen =ImageDataGenerator(rescale=1./255, data_format='channels_last')\n",
    "\n",
    "batch_size = 32\n",
    "\n",
    "train_generator = train_datagen.flow_from_dataframe(\n",
    "        dataframe=train_data,\n",
    "        directory='./patch_images/',\n",
    "        x_col=\"ImageName\",\n",
    "        y_col=\"cellType\",\n",
    "        target_size=(32, 32),\n",
    "        batch_size=batch_size,\n",
    "        class_mode='categorical')\n",
    "\n",
    "validation_generator = val_datagen.flow_from_dataframe(\n",
    "        dataframe=val_data,\n",
    "        directory='./patch_images/',\n",
    "        x_col=\"ImageName\",\n",
    "        y_col=\"cellType\",\n",
    "        target_size=(32, 32),\n",
    "        batch_size=batch_size,\n",
    "        class_mode='categorical')\n",
    "\n",
    "test_generator = test_datagen.flow_from_dataframe(\n",
    "        dataframe=test_data,\n",
    "        directory='./patch_images/',\n",
    "        x_col=\"ImageName\",\n",
    "        y_col=\"cellType\",\n",
    "        target_size=(32, 32),\n",
    "        batch_size=batch_size,\n",
    "        class_mode='categorical')"
   ]
  },
  {
   "cell_type": "code",
   "execution_count": 41,
   "metadata": {},
   "outputs": [],
   "source": [
    "# modelling \n",
    "\n",
    "\n",
    "\n",
    "import matplotlib.pyplot as plt\n",
    "def plot_learning_curve(train_loss, val_loss, train_metric, val_metric, metric_name='Accuracy'):\n",
    "    plt.figure(figsize=(10,5))\n",
    "    \n",
    "    plt.subplot(1,2,1)\n",
    "    plt.plot(train_loss, 'r--')\n",
    "    plt.plot(val_loss, 'b--')\n",
    "    plt.xlabel(\"epochs\")\n",
    "    plt.ylabel(\"Loss\")\n",
    "    plt.legend(['train', 'val'], loc='upper left')\n",
    "\n",
    "    plt.subplot(1,2,2)\n",
    "    plt.plot(train_metric, 'r--')\n",
    "    plt.plot(val_metric, 'b--')\n",
    "    plt.xlabel(\"epochs\")\n",
    "    plt.ylabel(metric_name)\n",
    "    plt.legend(['train', 'val'], loc='upper left')\n",
    "\n",
    "    plt.show()"
   ]
  },
  {
   "cell_type": "markdown",
   "metadata": {},
   "source": [
    "# Baseline Model"
   ]
  },
  {
   "cell_type": "code",
   "execution_count": 42,
   "metadata": {},
   "outputs": [],
   "source": [
    "# Default Baseline Model\n",
    "\n",
    "import tensorflow as tf\n",
    "\n",
    "\n",
    "model_1 = tf.keras.Sequential([\n",
    "    \n",
    "    tf.keras.layers.Conv2D(32, (3, 3), activation='relu', padding='same', input_shape=(32, 32, 3)),\n",
    "    tf.keras.layers.Conv2D(32, (3, 3), activation='relu', padding='same'),\n",
    "    tf.keras.layers.MaxPooling2D((2, 2)),\n",
    "    \n",
    "    \n",
    "    tf.keras.layers.Conv2D(64, (3, 3), activation='relu', padding='same'),\n",
    "    tf.keras.layers.Conv2D(64, (3, 3), activation='relu', padding='same'),\n",
    "    tf.keras.layers.MaxPooling2D((2, 2)),\n",
    "    \n",
    "    \n",
    "    tf.keras.layers.Conv2D(128, (3, 3), activation='relu', padding='same'),\n",
    "    tf.keras.layers.Conv2D(128, (3, 3), activation='relu', padding='same'),\n",
    "    tf.keras.layers.MaxPooling2D((2, 2)),\n",
    "    \n",
    "    tf.keras.layers.Flatten(),\n",
    "    tf.keras.layers.Dense(128, activation='relu'),\n",
    "    tf.keras.layers.Dense(OUTPUT_CLASSES),\n",
    "])"
   ]
  },
  {
   "cell_type": "code",
   "execution_count": 43,
   "metadata": {},
   "outputs": [
    {
     "name": "stdout",
     "output_type": "stream",
     "text": [
      "Model: \"sequential_3\"\n",
      "_________________________________________________________________\n",
      "Layer (type)                 Output Shape              Param #   \n",
      "=================================================================\n",
      "conv2d_18 (Conv2D)           (None, 32, 32, 32)        896       \n",
      "_________________________________________________________________\n",
      "conv2d_19 (Conv2D)           (None, 32, 32, 32)        9248      \n",
      "_________________________________________________________________\n",
      "max_pooling2d_9 (MaxPooling2 (None, 16, 16, 32)        0         \n",
      "_________________________________________________________________\n",
      "conv2d_20 (Conv2D)           (None, 16, 16, 64)        18496     \n",
      "_________________________________________________________________\n",
      "conv2d_21 (Conv2D)           (None, 16, 16, 64)        36928     \n",
      "_________________________________________________________________\n",
      "max_pooling2d_10 (MaxPooling (None, 8, 8, 64)          0         \n",
      "_________________________________________________________________\n",
      "conv2d_22 (Conv2D)           (None, 8, 8, 128)         73856     \n",
      "_________________________________________________________________\n",
      "conv2d_23 (Conv2D)           (None, 8, 8, 128)         147584    \n",
      "_________________________________________________________________\n",
      "max_pooling2d_11 (MaxPooling (None, 4, 4, 128)         0         \n",
      "_________________________________________________________________\n",
      "flatten_3 (Flatten)          (None, 2048)              0         \n",
      "_________________________________________________________________\n",
      "dense_6 (Dense)              (None, 128)               262272    \n",
      "_________________________________________________________________\n",
      "dense_7 (Dense)              (None, 4)                 516       \n",
      "=================================================================\n",
      "Total params: 549,796\n",
      "Trainable params: 549,796\n",
      "Non-trainable params: 0\n",
      "_________________________________________________________________\n"
     ]
    }
   ],
   "source": [
    "model_1.summary()"
   ]
  },
  {
   "cell_type": "code",
   "execution_count": 44,
   "metadata": {},
   "outputs": [],
   "source": [
    "model_1.compile(optimizer='adam',\n",
    "              loss=tf.keras.losses.CategoricalCrossentropy(from_logits=True),\n",
    "              metrics=['categorical_accuracy'])\n",
    "\n",
    "history_1 = model_1.fit_generator(train_generator, validation_data = validation_generator, epochs=25, verbose=0)\n",
    "\n"
   ]
  },
  {
   "cell_type": "code",
   "execution_count": 45,
   "metadata": {},
   "outputs": [
    {
     "data": {
      "image/png": "[encoded data removed]",
      "text/plain": [
       "<Figure size 720x360 with 2 Axes>"
      ]
     },
     "metadata": {
      "needs_background": "light"
     },
     "output_type": "display_data"
    }
   ],
   "source": [
    "plot_learning_curve(history_1.history['loss'], history_1.history['val_loss'], \n",
    "                    history_1.history['categorical_accuracy'], history_1.history['val_categorical_accuracy'], \n",
    "                    metric_name='Accuracy')"
   ]
  },
  {
   "cell_type": "markdown",
   "metadata": {},
   "source": [
    "From above plots we can see second plot shows overfitting as as traning accuracy increases, validation accuracy decreases. So we need to perform regularization."
   ]
  },
  {
   "cell_type": "markdown",
   "metadata": {},
   "source": [
    "# Regularization /Parameter tuning"
   ]
  },
  {
   "cell_type": "code",
   "execution_count": 46,
   "metadata": {},
   "outputs": [],
   "source": [
    "\n",
    "\n",
    "\n",
    "reg_lambda = 0.001\n",
    "\n",
    "model_2 = tf.keras.Sequential([\n",
    "    \n",
    "    tf.keras.layers.Conv2D(32, (3, 3), activation='relu', padding='same', \n",
    "                           kernel_regularizer=tf.keras.regularizers.l2(reg_lambda), input_shape=(32, 32, 3)),\n",
    "    tf.keras.layers.Conv2D(32, (3, 3), activation='relu', padding='same', \n",
    "                           kernel_regularizer=tf.keras.regularizers.l2(reg_lambda)),\n",
    "    tf.keras.layers.MaxPooling2D((2, 2)),\n",
    "    \n",
    "    \n",
    "    tf.keras.layers.Conv2D(64, (3, 3), activation='relu', padding='same', \n",
    "                           kernel_regularizer=tf.keras.regularizers.l2(reg_lambda)),\n",
    "    tf.keras.layers.Conv2D(64, (3, 3), activation='relu', padding='same', \n",
    "                           kernel_regularizer=tf.keras.regularizers.l2(reg_lambda)),\n",
    "    tf.keras.layers.MaxPooling2D((2, 2)),\n",
    "    \n",
    "   \n",
    "    tf.keras.layers.Conv2D(128, (3, 3), activation='relu', padding='same', \n",
    "                           kernel_regularizer=tf.keras.regularizers.l2(reg_lambda)),\n",
    "    tf.keras.layers.Conv2D(128, (3, 3), activation='relu', padding='same', \n",
    "                           kernel_regularizer=tf.keras.regularizers.l2(reg_lambda)),\n",
    "    tf.keras.layers.MaxPooling2D((2, 2)),\n",
    "    \n",
    "    tf.keras.layers.Flatten(),\n",
    "    tf.keras.layers.Dense(128, activation='relu'),\n",
    "    tf.keras.layers.Dropout(.2),\n",
    "    tf.keras.layers.Dense(OUTPUT_CLASSES),\n",
    "])\n"
   ]
  },
  {
   "cell_type": "code",
   "execution_count": 47,
   "metadata": {},
   "outputs": [
    {
     "name": "stdout",
     "output_type": "stream",
     "text": [
      "Model: \"sequential_4\"\n",
      "_________________________________________________________________\n",
      "Layer (type)                 Output Shape              Param #   \n",
      "=================================================================\n",
      "conv2d_24 (Conv2D)           (None, 32, 32, 32)        896       \n",
      "_________________________________________________________________\n",
      "conv2d_25 (Conv2D)           (None, 32, 32, 32)        9248      \n",
      "_________________________________________________________________\n",
      "max_pooling2d_12 (MaxPooling (None, 16, 16, 32)        0         \n",
      "_________________________________________________________________\n",
      "conv2d_26 (Conv2D)           (None, 16, 16, 64)        18496     \n",
      "_________________________________________________________________\n",
      "conv2d_27 (Conv2D)           (None, 16, 16, 64)        36928     \n",
      "_________________________________________________________________\n",
      "max_pooling2d_13 (MaxPooling (None, 8, 8, 64)          0         \n",
      "_________________________________________________________________\n",
      "conv2d_28 (Conv2D)           (None, 8, 8, 128)         73856     \n",
      "_________________________________________________________________\n",
      "conv2d_29 (Conv2D)           (None, 8, 8, 128)         147584    \n",
      "_________________________________________________________________\n",
      "max_pooling2d_14 (MaxPooling (None, 4, 4, 128)         0         \n",
      "_________________________________________________________________\n",
      "flatten_4 (Flatten)          (None, 2048)              0         \n",
      "_________________________________________________________________\n",
      "dense_8 (Dense)              (None, 128)               262272    \n",
      "_________________________________________________________________\n",
      "dropout_2 (Dropout)          (None, 128)               0         \n",
      "_________________________________________________________________\n",
      "dense_9 (Dense)              (None, 4)                 516       \n",
      "=================================================================\n",
      "Total params: 549,796\n",
      "Trainable params: 549,796\n",
      "Non-trainable params: 0\n",
      "_________________________________________________________________\n"
     ]
    }
   ],
   "source": [
    "model_2.summary()"
   ]
  },
  {
   "cell_type": "code",
   "execution_count": 48,
   "metadata": {},
   "outputs": [],
   "source": [
    "model_2.compile(optimizer='adam',\n",
    "              loss=tf.keras.losses.CategoricalCrossentropy(from_logits=True),\n",
    "              metrics=['categorical_accuracy'])\n",
    "history_2 = model_2.fit_generator(train_generator, validation_data = validation_generator, epochs=25, verbose=0)\n"
   ]
  },
  {
   "cell_type": "code",
   "execution_count": 49,
   "metadata": {},
   "outputs": [
    {
     "data": {
      "image/png": "[encoded data removed]",
      "text/plain": [
       "<Figure size 720x360 with 2 Axes>"
      ]
     },
     "metadata": {
      "needs_background": "light"
     },
     "output_type": "display_data"
    }
   ],
   "source": [
    "\n",
    "plot_learning_curve(history_2.history['loss'], history_2.history['val_loss'], \n",
    "                    history_2.history['categorical_accuracy'], history_2.history['val_categorical_accuracy'], \n",
    "                    metric_name='Accuracy')"
   ]
  },
  {
   "cell_type": "markdown",
   "metadata": {},
   "source": [
    "From the above plot there has been wide gap between train and validation data .We will try to perform data augmentation .we will randomly repostion the original dataset to form a larger dataset and use that for training."
   ]
  },
  {
   "cell_type": "markdown",
   "metadata": {},
   "source": [
    "# Data Augmentation"
   ]
  },
  {
   "cell_type": "markdown",
   "metadata": {},
   "source": [
    "We will add the following parameters to data augmented model \n",
    "\n",
    "lambda =0.001\n",
    "\n",
    "optimizer = adam\n",
    "\n",
    "Dropout = 0.2"
   ]
  },
  {
   "cell_type": "code",
   "execution_count": 50,
   "metadata": {},
   "outputs": [
    {
     "name": "stderr",
     "output_type": "stream",
     "text": [
      "C:\\Users\\aparu\\anaconda3\\lib\\site-packages\\ipykernel_launcher.py:3: SettingWithCopyWarning: \n",
      "A value is trying to be set on a copy of a slice from a DataFrame.\n",
      "Try using .loc[row_indexer,col_indexer] = value instead\n",
      "\n",
      "See the caveats in the documentation: https://pandas.pydata.org/pandas-docs/stable/user_guide/indexing.html#returning-a-view-versus-a-copy\n",
      "  This is separate from the ipykernel package so we can avoid doing imports until\n"
     ]
    },
    {
     "name": "stdout",
     "output_type": "stream",
     "text": [
      "Found 5937 validated image filenames belonging to 4 classes.\n",
      "Found 1979 validated image filenames belonging to 4 classes.\n",
      "Found 1980 validated image filenames belonging to 4 classes.\n"
     ]
    }
   ],
   "source": [
    "train_data['cellType'] = train_data['cellType'].astype('str')\n",
    "val_data['cellType'] = val_data['cellType'].astype('str')\n",
    "test_data['cellType'] = test_data['cellType'].astype('str')\n",
    "\n",
    "from tensorflow.keras.preprocessing.image import ImageDataGenerator\n",
    "\n",
    "train_datagen = ImageDataGenerator(rescale=1./255, data_format='channels_last',\n",
    "                                   rotation_range=15, width_shift_range=0.2,\n",
    "                                   height_shift_range=0.2, brightness_range=[0.5,1.5])\n",
    "val_datagen = ImageDataGenerator(rescale=1./255, data_format='channels_last')\n",
    "\n",
    "test_datagen =ImageDataGenerator(rescale=1./255, data_format='channels_last')\n",
    "\n",
    "batch_size = 32\n",
    "\n",
    "train_generator = train_datagen.flow_from_dataframe(\n",
    "        dataframe=train_data,\n",
    "        directory='./patch_images/',\n",
    "        x_col=\"ImageName\",\n",
    "        y_col=\"cellType\",\n",
    "        target_size=(32, 32),\n",
    "        batch_size=batch_size,\n",
    "        class_mode='categorical')\n",
    "\n",
    "validation_generator = val_datagen.flow_from_dataframe(\n",
    "        dataframe=val_data,\n",
    "        directory='./patch_images/',\n",
    "        x_col=\"ImageName\",\n",
    "        y_col=\"cellType\",\n",
    "        target_size=(32, 32),\n",
    "        batch_size=batch_size,\n",
    "        class_mode='categorical')\n",
    "\n",
    "test_generator = test_datagen.flow_from_dataframe(\n",
    "        dataframe=test_data,\n",
    "        directory='./patch_images/',\n",
    "        x_col=\"ImageName\",\n",
    "        y_col=\"cellType\",\n",
    "        target_size=(32, 32),\n",
    "        batch_size=batch_size,\n",
    "        class_mode='categorical')"
   ]
  },
  {
   "cell_type": "code",
   "execution_count": 51,
   "metadata": {},
   "outputs": [],
   "source": [
    "reg_lambda = 0.001\n",
    "\n",
    "model_3 = tf.keras.Sequential([\n",
    "    \n",
    "    tf.keras.layers.Conv2D(32, (3, 3), activation='relu', padding='same', \n",
    "                           kernel_regularizer=tf.keras.regularizers.l2(reg_lambda), input_shape=(32, 32, 3)),\n",
    "    tf.keras.layers.Conv2D(32, (3, 3), activation='relu', padding='same', \n",
    "                           kernel_regularizer=tf.keras.regularizers.l2(reg_lambda)),\n",
    "    \n",
    "    tf.keras.layers.MaxPooling2D((2, 2)),\n",
    "    \n",
    "    \n",
    "    tf.keras.layers.Conv2D(64, (3, 3), activation='relu', padding='same', \n",
    "                           kernel_regularizer=tf.keras.regularizers.l2(reg_lambda)),\n",
    "    tf.keras.layers.Conv2D(64, (3, 3), activation='relu', padding='same', \n",
    "                           kernel_regularizer=tf.keras.regularizers.l2(reg_lambda)),\n",
    "    \n",
    "    tf.keras.layers.MaxPooling2D((2, 2)),\n",
    "    \n",
    "   \n",
    "    tf.keras.layers.Conv2D(128, (3, 3), activation='relu', padding='same', \n",
    "                           kernel_regularizer=tf.keras.regularizers.l2(reg_lambda)),\n",
    "    tf.keras.layers.Conv2D(128, (3, 3), activation='relu', padding='same', \n",
    "                           kernel_regularizer=tf.keras.regularizers.l2(reg_lambda)),\n",
    "   \n",
    "    tf.keras.layers.MaxPooling2D((2, 2)),\n",
    "    \n",
    "    tf.keras.layers.Flatten(),\n",
    "    tf.keras.layers.Dense(128, activation='relu'),\n",
    "    tf.keras.layers.Dropout(.2),\n",
    "    tf.keras.layers.Dense(OUTPUT_CLASSES),\n",
    "])"
   ]
  },
  {
   "cell_type": "code",
   "execution_count": 52,
   "metadata": {},
   "outputs": [
    {
     "name": "stdout",
     "output_type": "stream",
     "text": [
      "Model: \"sequential_5\"\n",
      "_________________________________________________________________\n",
      "Layer (type)                 Output Shape              Param #   \n",
      "=================================================================\n",
      "conv2d_30 (Conv2D)           (None, 32, 32, 32)        896       \n",
      "_________________________________________________________________\n",
      "conv2d_31 (Conv2D)           (None, 32, 32, 32)        9248      \n",
      "_________________________________________________________________\n",
      "max_pooling2d_15 (MaxPooling (None, 16, 16, 32)        0         \n",
      "_________________________________________________________________\n",
      "conv2d_32 (Conv2D)           (None, 16, 16, 64)        18496     \n",
      "_________________________________________________________________\n",
      "conv2d_33 (Conv2D)           (None, 16, 16, 64)        36928     \n",
      "_________________________________________________________________\n",
      "max_pooling2d_16 (MaxPooling (None, 8, 8, 64)          0         \n",
      "_________________________________________________________________\n",
      "conv2d_34 (Conv2D)           (None, 8, 8, 128)         73856     \n",
      "_________________________________________________________________\n",
      "conv2d_35 (Conv2D)           (None, 8, 8, 128)         147584    \n",
      "_________________________________________________________________\n",
      "max_pooling2d_17 (MaxPooling (None, 4, 4, 128)         0         \n",
      "_________________________________________________________________\n",
      "flatten_5 (Flatten)          (None, 2048)              0         \n",
      "_________________________________________________________________\n",
      "dense_10 (Dense)             (None, 128)               262272    \n",
      "_________________________________________________________________\n",
      "dropout_3 (Dropout)          (None, 128)               0         \n",
      "_________________________________________________________________\n",
      "dense_11 (Dense)             (None, 4)                 516       \n",
      "=================================================================\n",
      "Total params: 549,796\n",
      "Trainable params: 549,796\n",
      "Non-trainable params: 0\n",
      "_________________________________________________________________\n"
     ]
    }
   ],
   "source": [
    "model_3.summary()"
   ]
  },
  {
   "cell_type": "code",
   "execution_count": 53,
   "metadata": {},
   "outputs": [],
   "source": [
    "model_3.compile(optimizer='adam',\n",
    "              loss=tf.keras.losses.CategoricalCrossentropy(from_logits=True),\n",
    "              metrics=['categorical_accuracy'])\n",
    "history_3 = model_3.fit_generator(train_generator, validation_data = validation_generator, epochs=25, verbose=0)\n"
   ]
  },
  {
   "cell_type": "code",
   "execution_count": 54,
   "metadata": {},
   "outputs": [
    {
     "data": {
      "image/png": "[encoded data removed]",
      "text/plain": [
       "<Figure size 720x360 with 2 Axes>"
      ]
     },
     "metadata": {
      "needs_background": "light"
     },
     "output_type": "display_data"
    }
   ],
   "source": [
    "plot_learning_curve(history_3.history['loss'], history_3.history['val_loss'], \n",
    "                    history_3.history['categorical_accuracy'], history_3.history['val_categorical_accuracy'], \n",
    "                    metric_name='Accuracy')"
   ]
  },
  {
   "cell_type": "markdown",
   "metadata": {},
   "source": [
    "After applying batch normalization in data augmentation ,we can see that curve has improved. Validation accuray has increased a lot and validation loss has decresed .So we will go with model 3 and predict test data "
   ]
  },
  {
   "cell_type": "code",
   "execution_count": 55,
   "metadata": {},
   "outputs": [
    {
     "name": "stdout",
     "output_type": "stream",
     "text": [
      "62/62 [==============================] - 1s 23ms/step - loss: 0.8419 - categorical_accuracy: 0.6960\n",
      "Test Accuracy: 69.60%\n",
      "186/186 [==============================] - 9s 48ms/step - loss: 0.7117 - categorical_accuracy: 0.7447\n",
      "Train Accuracy: 74.47%\n"
     ]
    }
   ],
   "source": [
    "# Apply on test and train data to predict accuracy of both\n",
    "\n",
    "prediction = model_3.predict(test_generator)\n",
    "\n",
    "test_evaluation = model_3.evaluate(test_generator)\n",
    "print(f\"Test Accuracy: {test_evaluation[1] * 100:.2f}%\")\n",
    "\n",
    "\n",
    "train_evaluation = model_3.evaluate(train_generator)\n",
    "print(f\"Train Accuracy: {train_evaluation[1] * 100:.2f}%\")"
   ]
  },
  {
   "cell_type": "markdown",
   "metadata": {},
   "source": [
    "We can see that the model outputs good accuracy for both test and train data.Test data prediction score more than 70% around accuracy which is quite good .Hence this model ca be used to classify unseen dataset "
   ]
  },
  {
   "cell_type": "markdown",
   "metadata": {},
   "source": [
    "# For higher grades (HD/DI) you must explore how the data in\\data labels extraData.csv\" can improve the cell-type classification model and use it accordingly."
   ]
  },
  {
   "cell_type": "markdown",
   "metadata": {},
   "source": [
    "                \n",
    "For this task  we will use the concept of Transfer learning  which is a machine learning method where a model developed for a task is reused as the starting point for a model on a second task.\n",
    "We have already  use the combined dataset for task 1, save its weights and load the weights for task 2 model.\n",
    "\n",
    "Steps are as follows:\n",
    "\n",
    "1.Here first merge both csv files data_labels_mainData.csv  and data_labels_extraData.csv (dropping cellTypeName and cellType columns). \n",
    "\n",
    "2.We creates a tf.keras.callbacks.ModelCheckpoint callback that saves weights only during training.\n",
    "\n",
    "3.Then we used already combined dataset in our Task 1  model that predict iscancerous or not.\n",
    "\n",
    "4.Build  our second Task model ( which detects four  cell type) and evaluated.\n",
    "\n",
    "NOW WE WILL PERFORM BELOW STEPS\n",
    "\n",
    "5.Loaded the weights from the first task ( load the weights from the checkpoint) using model_final.load_weights(checkpoint_path)\n",
    "\n",
    "6.Use get_weights() and set_weights() function to adjust weights .\n",
    "\n",
    "Hence  data in \\data labels extraData.csv\" can improve the cell-type classification model and can be use it accordingly."
   ]
  },
  {
   "cell_type": "markdown",
   "metadata": {},
   "source": [
    "Since there is shape diffrence while transfer the pretrained model weight,as task1  model as shape (,2) and task 2 model has (,4) ,so we will use loop through layers in model . We will use get_weights() in each layer and transfer to the new layers with set_weights(weights)\n"
   ]
  },
  {
   "cell_type": "markdown",
   "metadata": {},
   "source": [
    "model.layer.get_weights()returns a list consisting of NumPy arrays. The first array gives the weights of the layer and the second array gives the biases.\n",
    "\n",
    "model.layer.set_weights(weights) sets the weights and biases of the layer from a list consisting of NumPy arrays with shape same as returned by get_weights()."
   ]
  },
  {
   "cell_type": "code",
   "execution_count": 56,
   "metadata": {},
   "outputs": [
    {
     "data": {
      "text/plain": [
       "<tensorflow.python.training.tracking.util.CheckpointLoadStatus at 0x2b8872f4708>"
      ]
     },
     "execution_count": 56,
     "metadata": {},
     "output_type": "execute_result"
    }
   ],
   "source": [
    "# Load weights from first task model\n",
    "\n",
    "model_final.load_weights(checkpoint_path)"
   ]
  },
  {
   "cell_type": "code",
   "execution_count": 57,
   "metadata": {},
   "outputs": [],
   "source": [
    "\n",
    "for i in range(len(model_final.layers)-1):  # excluding last layer of model\n",
    "    model_3.layers[i].set_weights(model_final.layers[i].get_weights())"
   ]
  },
  {
   "cell_type": "code",
   "execution_count": 58,
   "metadata": {},
   "outputs": [
    {
     "name": "stdout",
     "output_type": "stream",
     "text": [
      "62/62 [==============================] - 2s 24ms/step - loss: 1.3982 - categorical_accuracy: 0.4747\n",
      "Test Accuracy: 47.47%\n",
      "186/186 [==============================] - 10s 52ms/step - loss: 1.3818 - categorical_accuracy: 0.4903\n",
      "Train Accuracy: 49.03%\n"
     ]
    }
   ],
   "source": [
    "# Re-evaluate the model\n",
    "prediction = model_3.predict(test_generator)\n",
    "\n",
    "test_evaluation = model_3.evaluate(test_generator)\n",
    "print(f\"Test Accuracy: {test_evaluation[1] * 100:.2f}%\")\n",
    "\n",
    "\n",
    "train_evaluation = model_3.evaluate(train_generator)\n",
    "print(f\"Train Accuracy: {train_evaluation[1] * 100:.2f}%\")"
   ]
  },
  {
   "cell_type": "markdown",
   "metadata": {},
   "source": [
    "Although after applying transfer learning for this dataset, the traning and test accuracy did not perform well,but we are able to use the weights of one model into another. This way we can use data_labels_extraData.csv which contained only labelled iscancerous classes in determining cell type classification model."
   ]
  },
  {
   "cell_type": "code",
   "execution_count": null,
   "metadata": {},
   "outputs": [],
   "source": []
  },
  {
   "cell_type": "code",
   "execution_count": null,
   "metadata": {},
   "outputs": [],
   "source": []
  }
 ],
 "metadata": {
  "kernelspec": {
   "display_name": "Python 3",
   "language": "python",
   "name": "python3"
  },
  "language_info": {
   "codemirror_mode": {
    "name": "ipython",
    "version": 3
   },
   "file_extension": ".py",
   "mimetype": "text/x-python",
   "name": "python",
   "nbconvert_exporter": "python",
   "pygments_lexer": "ipython3",
   "version": "3.7.6"
  }
 },
 "nbformat": 4,
 "nbformat_minor": 4
}
